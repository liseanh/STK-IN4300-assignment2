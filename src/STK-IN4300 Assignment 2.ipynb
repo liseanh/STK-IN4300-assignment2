{
 "cells": [
  {
   "cell_type": "markdown",
   "metadata": {},
   "source": [
    "Anh-Nguyet Lise Nguyen\n",
    "\n",
    "# Problem 1"
   ]
  },
  {
   "cell_type": "markdown",
   "metadata": {},
   "source": [
    "## Problem 1.1"
   ]
  },
  {
   "cell_type": "code",
   "execution_count": 1,
   "metadata": {},
   "outputs": [],
   "source": [
    "import numpy as np\n",
    "import scipy.stats \n",
    "import pandas as pd \n",
    "import matplotlib.pyplot as plt\n",
    "import sklearn.metrics as sklm\n",
    "import sklearn.linear_model as skllm\n",
    "import sklearn.model_selection as sklms\n",
    "import sklearn.preprocessing as sklpre\n",
    "import sklearn.neighbors as skln\n",
    "import sklearn.tree as skt\n",
    "import sklearn.ensemble as skle\n",
    "import sklearn.neural_network as sknn\n",
    "import pygam "
   ]
  },
  {
   "cell_type": "code",
   "execution_count": 2,
   "metadata": {},
   "outputs": [],
   "source": [
    "%load_ext rpy2.ipython"
   ]
  },
  {
   "cell_type": "code",
   "execution_count": 3,
   "metadata": {},
   "outputs": [],
   "source": [
    "# Import the .csv file for the ozone data into a data frame\n",
    "df = pd.read_csv(\"data/ozone_496obs_25vars.txt\", header=0, sep=\" \")"
   ]
  },
  {
   "cell_type": "code",
   "execution_count": 4,
   "metadata": {},
   "outputs": [],
   "source": [
    "# Extract variables except SEX\n",
    "variables = df.loc[:,  (df.columns != \"SEX\")]\n",
    "\n",
    "# Onehotting the SEX categorical variable \n",
    "onehot_sex = pd.get_dummies(df.loc[:,\"SEX\"]).set_axis(\n",
    "    [\"MALE\", \"FEMALE\"], axis=1, inplace=False\n",
    ")\n",
    "# Inserting MALE and FEMALE into variable data frame\n",
    "variables = variables.join(onehot_sex)\n"
   ]
  },
  {
   "cell_type": "code",
   "execution_count": 5,
   "metadata": {},
   "outputs": [],
   "source": [
    "# Split into training and test set\n",
    "variables_train_, variables_test_ = sklms.train_test_split(\n",
    "    variables, test_size=0.5, stratify=variables[\"FSATEM\"]\n",
    ")"
   ]
  },
  {
   "cell_type": "code",
   "execution_count": 6,
   "metadata": {},
   "outputs": [],
   "source": [
    "# Which columns to scale:\n",
    "col_continuous = np.array([\"ALTER\", \"AGEBGEW\", \"FLGROSS\", \"FNOH24\", \"FLTOTMED\", \"FO3H24\", \"FTEH24\", \"FLGEW\",  \"FFVC\"])\n",
    "\n",
    "# Defining the scaler (subtracts mean, divides by standard deviation):\n",
    "scaler = sklpre.StandardScaler().fit(variables_train_[col_continuous].values)\n",
    "\n",
    "# Standardizing the data using the scaler defined above in the continuous variables\n",
    "scaled_cols_train = scaler.transform(variables_train_[col_continuous])\n",
    "scaled_cols_test = scaler.transform(variables_test_[col_continuous])\n"
   ]
  },
  {
   "cell_type": "code",
   "execution_count": 7,
   "metadata": {},
   "outputs": [],
   "source": [
    "# List of all variable names\n",
    "feature_names = np.array(variables.columns.values, dtype=str)\n",
    "\n",
    "# List of categorical variables\n",
    "col_categorical = []\n",
    "for item in feature_names:\n",
    "    if item not in col_continuous:\n",
    "        col_categorical.append(item)\n",
    "\n",
    "# Data frame of the categorical variables \n",
    "variables_categorical_train = variables_train_.loc[:, col_categorical]\n",
    "variables_categorical_test = variables_test_.loc[:, col_categorical]\n",
    "\n",
    "# Data frame of the continuous variables\n",
    "variables_continuous_train = pd.DataFrame(scaled_cols_train, columns=col_continuous)\n",
    "variables_continuous_test = pd.DataFrame(scaled_cols_test, columns=col_continuous)"
   ]
  },
  {
   "cell_type": "code",
   "execution_count": 8,
   "metadata": {},
   "outputs": [],
   "source": [
    "# Merging the categorical and continuous variables: \n",
    "\n",
    "variables_final_train = variables_categorical_train.join(variables_continuous_train) \n",
    "variables_final_test = variables_categorical_test.join(variables_continuous_test)\n",
    "\n",
    "variables_train_array = np.concatenate([variables_categorical_train, variables_continuous_train], axis=1)\n",
    "variables_final_train = pd.DataFrame(variables_train_array, columns=(list(col_categorical)+list(col_continuous)))\n",
    "\n",
    "variables_test_array = np.concatenate([variables_categorical_test, variables_continuous_test], axis=1)\n",
    "variables_final_test = pd.DataFrame(variables_test_array, columns=(list(col_categorical)+list(col_continuous)))\n",
    "\n",
    "    "
   ]
  },
  {
   "cell_type": "code",
   "execution_count": 9,
   "metadata": {},
   "outputs": [],
   "source": [
    "# Exporting the final preprocessed data frames as .csv \n",
    "variables_final_train.to_csv(\"data/ozone_train.csv\", index=False)\n",
    "variables_final_test.to_csv(\"data/ozone_test.csv\", index=False)"
   ]
  },
  {
   "cell_type": "markdown",
   "metadata": {},
   "source": [
    "The categorical variables were not scaled and only SEX was encoded into FEMALE and MALE. This was not necessary for the other categorical variables as they were boolean. "
   ]
  },
  {
   "cell_type": "markdown",
   "metadata": {},
   "source": [
    "## Problem 1.2"
   ]
  },
  {
   "cell_type": "code",
   "execution_count": 10,
   "metadata": {},
   "outputs": [],
   "source": [
    "# Import the .csv for the training set made in Problem 1.1\n",
    "df_train = pd.read_csv(\"data/ozone_train.csv\")\n",
    "\n",
    "# Extract explanatory features X and outcome y\n",
    "X_train = df_train.loc[:, df_train.columns != \"FFVC\"]\n",
    "y_train = df_train.loc[:, \"FFVC\"]\n"
   ]
  },
  {
   "cell_type": "code",
   "execution_count": 11,
   "metadata": {},
   "outputs": [],
   "source": [
    "# Import the .csv for the test set made in Problem 1.1\n",
    "df_test = pd.read_csv(\"data/ozone_test.csv\")\n",
    "\n",
    "# Extract explanatory features X and outcome y\n",
    "X_test = df_test.loc[:, df_test.columns != \"FFVC\"]\n",
    "y_test = df_test.loc[:, \"FFVC\"]\n"
   ]
  },
  {
   "cell_type": "code",
   "execution_count": 12,
   "metadata": {},
   "outputs": [],
   "source": [
    "# Need to write my own function to return a summary of coefficients, std and p-values\n",
    "\n",
    "def summary_OLS(X, y, feature_names):\n",
    "    array_1D = None\n",
    "    \n",
    "    if len(np.shape(X)) == 1:\n",
    "        array_1D = True\n",
    "        X = X.reshape(-1,1)\n",
    "    \n",
    "    # Initialize OLS and calculate coefficients\n",
    "    OLS = skllm.LinearRegression(fit_intercept=False).fit(X, y)\n",
    "    y_pred = OLS.predict(X) \n",
    "    coefficients = np.append(OLS.intercept_, OLS.coef_)\n",
    "    \n",
    "    # Calculate variance and standard deviance\n",
    "    newX = np.append(np.ones((len(X),1)), X, axis=1)\n",
    "    MSE = (sum((y - y_pred)**2))/(len(newX)-len(newX[0]))\n",
    "    \n",
    "    var = MSE*(np.linalg.pinv(np.dot(newX.T,newX)).diagonal())\n",
    "    std = np.sqrt(var)\n",
    "    \n",
    "    # Then calculate p-values\n",
    "    ts_b = coefficients/ std\n",
    "\n",
    "    p = np.zeros(len(ts_b))\n",
    "    for index, i in enumerate(ts_b):\n",
    "        p[index] = 2*(1-scipy.stats.t.cdf(np.abs(i),(len(newX)-1))) \n",
    "    \n",
    "    # Make a data frame of coefficients, std and p-values\n",
    "    if array_1D:\n",
    "        summary = pd.DataFrame(zip(coefficients, std, p), columns=[\"Feature\", \"Standard deviance\", \"p-values\"]\n",
    "                              , index=([\"intercept\"] + [feature_names]))\n",
    "        \n",
    "    else:\n",
    "        summary = pd.DataFrame(zip(coefficients, std, p), columns=[\"Coefficients\", \"Standard deviance\", \"p-values\"],\n",
    "                          index=([\"intercept\"] + list(feature_names)))\n",
    "                           \n",
    "    return summary\n",
    "        \n"
   ]
  },
  {
   "cell_type": "code",
   "execution_count": 13,
   "metadata": {},
   "outputs": [
    {
     "name": "stdout",
     "output_type": "stream",
     "text": [
      "Summary for the OLS training\n"
     ]
    },
    {
     "data": {
      "text/html": [
       "<div>\n",
       "<style scoped>\n",
       "    .dataframe tbody tr th:only-of-type {\n",
       "        vertical-align: middle;\n",
       "    }\n",
       "\n",
       "    .dataframe tbody tr th {\n",
       "        vertical-align: top;\n",
       "    }\n",
       "\n",
       "    .dataframe thead th {\n",
       "        text-align: right;\n",
       "    }\n",
       "</style>\n",
       "<table border=\"1\" class=\"dataframe\">\n",
       "  <thead>\n",
       "    <tr style=\"text-align: right;\">\n",
       "      <th></th>\n",
       "      <th>Coefficients</th>\n",
       "      <th>Standard deviance</th>\n",
       "      <th>p-values</th>\n",
       "    </tr>\n",
       "  </thead>\n",
       "  <tbody>\n",
       "    <tr>\n",
       "      <th>intercept</th>\n",
       "      <td>0.000000</td>\n",
       "      <td>0.063838</td>\n",
       "      <td>1.000000e+00</td>\n",
       "    </tr>\n",
       "    <tr>\n",
       "      <th>ADHEU</th>\n",
       "      <td>-0.251528</td>\n",
       "      <td>0.169382</td>\n",
       "      <td>1.388256e-01</td>\n",
       "    </tr>\n",
       "    <tr>\n",
       "      <th>HOCHOZON</th>\n",
       "      <td>-0.124647</td>\n",
       "      <td>0.108682</td>\n",
       "      <td>2.525339e-01</td>\n",
       "    </tr>\n",
       "    <tr>\n",
       "      <th>AMATOP</th>\n",
       "      <td>0.070164</td>\n",
       "      <td>0.093371</td>\n",
       "      <td>4.530934e-01</td>\n",
       "    </tr>\n",
       "    <tr>\n",
       "      <th>AVATOP</th>\n",
       "      <td>-0.006713</td>\n",
       "      <td>0.104893</td>\n",
       "      <td>9.490247e-01</td>\n",
       "    </tr>\n",
       "    <tr>\n",
       "      <th>ADEKZ</th>\n",
       "      <td>0.029896</td>\n",
       "      <td>0.098487</td>\n",
       "      <td>7.617231e-01</td>\n",
       "    </tr>\n",
       "    <tr>\n",
       "      <th>ARAUCH</th>\n",
       "      <td>-0.051224</td>\n",
       "      <td>0.085788</td>\n",
       "      <td>5.509842e-01</td>\n",
       "    </tr>\n",
       "    <tr>\n",
       "      <th>FSNIGHT</th>\n",
       "      <td>0.211984</td>\n",
       "      <td>0.164447</td>\n",
       "      <td>1.985788e-01</td>\n",
       "    </tr>\n",
       "    <tr>\n",
       "      <th>FMILB</th>\n",
       "      <td>-0.058481</td>\n",
       "      <td>0.143574</td>\n",
       "      <td>6.841216e-01</td>\n",
       "    </tr>\n",
       "    <tr>\n",
       "      <th>FTIER</th>\n",
       "      <td>-0.032023</td>\n",
       "      <td>0.137196</td>\n",
       "      <td>8.156339e-01</td>\n",
       "    </tr>\n",
       "    <tr>\n",
       "      <th>FPOLL</th>\n",
       "      <td>0.143026</td>\n",
       "      <td>0.182896</td>\n",
       "      <td>4.349590e-01</td>\n",
       "    </tr>\n",
       "    <tr>\n",
       "      <th>FSPT</th>\n",
       "      <td>-0.195312</td>\n",
       "      <td>0.192001</td>\n",
       "      <td>3.100322e-01</td>\n",
       "    </tr>\n",
       "    <tr>\n",
       "      <th>FSATEM</th>\n",
       "      <td>0.045070</td>\n",
       "      <td>0.262663</td>\n",
       "      <td>8.639003e-01</td>\n",
       "    </tr>\n",
       "    <tr>\n",
       "      <th>FSAUGE</th>\n",
       "      <td>0.076757</td>\n",
       "      <td>0.143035</td>\n",
       "      <td>5.920058e-01</td>\n",
       "    </tr>\n",
       "    <tr>\n",
       "      <th>FSPFEI</th>\n",
       "      <td>0.098357</td>\n",
       "      <td>0.265873</td>\n",
       "      <td>7.117447e-01</td>\n",
       "    </tr>\n",
       "    <tr>\n",
       "      <th>FSHLAUF</th>\n",
       "      <td>-0.133204</td>\n",
       "      <td>0.193830</td>\n",
       "      <td>4.925898e-01</td>\n",
       "    </tr>\n",
       "    <tr>\n",
       "      <th>MALE</th>\n",
       "      <td>0.381781</td>\n",
       "      <td>0.054090</td>\n",
       "      <td>1.696887e-11</td>\n",
       "    </tr>\n",
       "    <tr>\n",
       "      <th>FEMALE</th>\n",
       "      <td>-0.123152</td>\n",
       "      <td>0.049102</td>\n",
       "      <td>1.278155e-02</td>\n",
       "    </tr>\n",
       "    <tr>\n",
       "      <th>ALTER</th>\n",
       "      <td>0.052618</td>\n",
       "      <td>0.047401</td>\n",
       "      <td>2.680495e-01</td>\n",
       "    </tr>\n",
       "    <tr>\n",
       "      <th>AGEBGEW</th>\n",
       "      <td>0.056261</td>\n",
       "      <td>0.040453</td>\n",
       "      <td>1.655480e-01</td>\n",
       "    </tr>\n",
       "    <tr>\n",
       "      <th>FLGROSS</th>\n",
       "      <td>0.442922</td>\n",
       "      <td>0.064475</td>\n",
       "      <td>5.199130e-11</td>\n",
       "    </tr>\n",
       "    <tr>\n",
       "      <th>FNOH24</th>\n",
       "      <td>-0.146224</td>\n",
       "      <td>0.053815</td>\n",
       "      <td>7.050426e-03</td>\n",
       "    </tr>\n",
       "    <tr>\n",
       "      <th>FLTOTMED</th>\n",
       "      <td>-0.036194</td>\n",
       "      <td>0.042589</td>\n",
       "      <td>3.962318e-01</td>\n",
       "    </tr>\n",
       "    <tr>\n",
       "      <th>FO3H24</th>\n",
       "      <td>0.107849</td>\n",
       "      <td>0.086113</td>\n",
       "      <td>2.116042e-01</td>\n",
       "    </tr>\n",
       "    <tr>\n",
       "      <th>FTEH24</th>\n",
       "      <td>-0.081461</td>\n",
       "      <td>0.079687</td>\n",
       "      <td>3.076570e-01</td>\n",
       "    </tr>\n",
       "    <tr>\n",
       "      <th>FLGEW</th>\n",
       "      <td>0.283357</td>\n",
       "      <td>0.058876</td>\n",
       "      <td>2.593528e-06</td>\n",
       "    </tr>\n",
       "  </tbody>\n",
       "</table>\n",
       "</div>"
      ],
      "text/plain": [
       "           Coefficients  Standard deviance      p-values\n",
       "intercept      0.000000           0.063838  1.000000e+00\n",
       "ADHEU         -0.251528           0.169382  1.388256e-01\n",
       "HOCHOZON      -0.124647           0.108682  2.525339e-01\n",
       "AMATOP         0.070164           0.093371  4.530934e-01\n",
       "AVATOP        -0.006713           0.104893  9.490247e-01\n",
       "ADEKZ          0.029896           0.098487  7.617231e-01\n",
       "ARAUCH        -0.051224           0.085788  5.509842e-01\n",
       "FSNIGHT        0.211984           0.164447  1.985788e-01\n",
       "FMILB         -0.058481           0.143574  6.841216e-01\n",
       "FTIER         -0.032023           0.137196  8.156339e-01\n",
       "FPOLL          0.143026           0.182896  4.349590e-01\n",
       "FSPT          -0.195312           0.192001  3.100322e-01\n",
       "FSATEM         0.045070           0.262663  8.639003e-01\n",
       "FSAUGE         0.076757           0.143035  5.920058e-01\n",
       "FSPFEI         0.098357           0.265873  7.117447e-01\n",
       "FSHLAUF       -0.133204           0.193830  4.925898e-01\n",
       "MALE           0.381781           0.054090  1.696887e-11\n",
       "FEMALE        -0.123152           0.049102  1.278155e-02\n",
       "ALTER          0.052618           0.047401  2.680495e-01\n",
       "AGEBGEW        0.056261           0.040453  1.655480e-01\n",
       "FLGROSS        0.442922           0.064475  5.199130e-11\n",
       "FNOH24        -0.146224           0.053815  7.050426e-03\n",
       "FLTOTMED      -0.036194           0.042589  3.962318e-01\n",
       "FO3H24         0.107849           0.086113  2.116042e-01\n",
       "FTEH24        -0.081461           0.079687  3.076570e-01\n",
       "FLGEW          0.283357           0.058876  2.593528e-06"
      ]
     },
     "execution_count": 13,
     "metadata": {},
     "output_type": "execute_result"
    }
   ],
   "source": [
    "summary_train = summary_OLS(X_train, y_train, X_train.columns.values)\n",
    "\n",
    "summary_test = summary_OLS(X_test, y_test, X_test.columns.values)\n",
    "\n",
    "print(f\"Summary for the OLS training\")\n",
    "summary_train"
   ]
  },
  {
   "cell_type": "markdown",
   "metadata": {},
   "source": [
    "## Problem 1.3 \n",
    "\n",
    "I'm choosing to use criterias for p-value in backward elimination and forward selection."
   ]
  },
  {
   "cell_type": "markdown",
   "metadata": {},
   "source": [
    "### Backward elimination"
   ]
  },
  {
   "cell_type": "code",
   "execution_count": 14,
   "metadata": {},
   "outputs": [],
   "source": [
    "# Need to write my own backward elimination function \n",
    "\n",
    "def backward_elimination(X, y, alpha):\n",
    "    # Make copies of X and y\n",
    "    X_copy = X.copy()\n",
    "    y_copy = y.copy()\n",
    "    \n",
    "    feature_names = X_copy.columns.values\n",
    "    # Calculating coefficients, standard deviations and p-values as summary\n",
    "    # of initial X and y \n",
    "    summary = summary_OLS(X_copy, y_copy, feature_names)\n",
    "    p_values = summary.loc[:, \"p-values\"]\n",
    "\n",
    "    # Find maximum p-value\n",
    "    p_max = np.max(p_values)\n",
    "    \n",
    "    # Iterate until p <= alpha\n",
    "    while p_max > alpha:\n",
    "        # Calculating coefficients, standard deviations and p-values using summary_OLS function\n",
    "        feature_names = X_copy.columns.values\n",
    "        summary = summary_OLS(X_copy, y_copy, feature_names)\n",
    "        summary.drop(\"intercept\", axis=0, inplace=True)\n",
    "        p_values = summary.loc[:, \"p-values\"]\n",
    "        \n",
    "        # Locating index with maximum p-value and \n",
    "        # dropping corresponding feature\n",
    "        p_max_index = p_values.idxmax(axis=1)\n",
    "        X_copy.drop(p_max_index, axis=1, inplace=True)\n",
    "        \n",
    "        # Update maximum p-value\n",
    "        p_max = p_values.loc[p_max_index]        \n",
    "    feature_names = X_copy.columns.values\n",
    "    \n",
    "    return X_copy, summary_OLS(X_copy, y_copy, feature_names)\n",
    "\n"
   ]
  },
  {
   "cell_type": "code",
   "execution_count": 15,
   "metadata": {},
   "outputs": [
    {
     "name": "stdout",
     "output_type": "stream",
     "text": [
      "Backward elimination using threshold 0.1 \n",
      "\n",
      "            Coefficients  Standard deviance      p-values\n",
      "intercept      0.000000           0.025060  1.000000e+00\n",
      "MALE           0.270255           0.040935  2.462022e-10\n",
      "FEMALE        -0.233679           0.039186  8.498613e-09\n",
      "FLGROSS        0.511359           0.055964  0.000000e+00\n",
      "FLGEW          0.268868           0.055824  2.551946e-06\n"
     ]
    }
   ],
   "source": [
    "X_backelim_1_train, summary_backelim_1_train = backward_elimination(X_train, y_train, 1e-1)\n",
    "print(\"Backward elimination using threshold 0.1 \\n\\n\", summary_backelim_1_train)"
   ]
  },
  {
   "cell_type": "code",
   "execution_count": 16,
   "metadata": {},
   "outputs": [
    {
     "name": "stdout",
     "output_type": "stream",
     "text": [
      "Backward elimination using threshold 0.001 \n",
      "\n",
      "            Coefficients  Standard deviance      p-values\n",
      "intercept      0.000000           0.026175  1.000000e+00\n",
      "MALE           0.277038           0.042734  4.854697e-10\n",
      "FEMALE        -0.239544           0.040907  1.506194e-08\n",
      "FLGROSS        0.709517           0.039626  0.000000e+00\n"
     ]
    }
   ],
   "source": [
    "X_backelim_2_train, summary_backelim_2_train = backward_elimination(X_train, y_train, 1e-3)\n",
    "summary_backelim_2_train\n",
    "\n",
    "print(\"Backward elimination using threshold 0.001 \\n\\n\", summary_backelim_2_train)"
   ]
  },
  {
   "cell_type": "markdown",
   "metadata": {},
   "source": [
    "### Forward selection"
   ]
  },
  {
   "cell_type": "code",
   "execution_count": 17,
   "metadata": {},
   "outputs": [],
   "source": [
    "# Need to write my own forward selection function\n",
    "\n",
    "def forward_selection(X, y, alpha):\n",
    "    X_copy = X.copy()\n",
    "    y_copy = y.copy()\n",
    "    p_max = alpha - 1\n",
    "    p_min = 0\n",
    "    \n",
    "    feature_include = []\n",
    "    feature_names = np.array(list(X_copy.columns.values))\n",
    "    while p_max < alpha and len(feature_names)>0:\n",
    "\n",
    "        n_features = len(feature_names)\n",
    "        p_values = np.zeros(n_features)\n",
    "        \n",
    "        for i, feature in enumerate(feature_names):\n",
    "            # Calculate summary (coefficients, std, p-value) for each feature\n",
    "            features = np.append(feature_include, feature_names[i])\n",
    "            \n",
    "            X_feature = X_copy.loc[:, features].values\n",
    "            summary = summary_OLS(X_feature, y_copy, features)\n",
    "\n",
    "            summary.drop(([\"intercept\"] + feature_include ), axis=0, inplace=True)\n",
    "            \n",
    "            \n",
    "            p_one = summary.loc[:, \"p-values\"].values\n",
    "            p_values[i] = p_one\n",
    "            \n",
    "        # Find the smallest p-value and corresponding feature\n",
    "        p_min_index = np.argmin(p_values)\n",
    "        p_min = p_values[p_min_index]\n",
    "        \n",
    "        feature_min_p = feature_names[p_min_index]\n",
    "        feature_include.append(feature_min_p)\n",
    "        feature_names = feature_names[feature_names != feature_min_p]\n",
    "\n",
    "        # Calculate summary for the included features\n",
    "        X_feature = X_copy.loc[:, features].values\n",
    "\n",
    "        summary_ = summary_OLS(X_feature, y_copy, feature_include)\n",
    "        \n",
    "        p_max = summary.loc[:, \"p-values\"].values.max()\n",
    "\n",
    "        X_final = X_copy.loc[:, feature_include]\n",
    "        \n",
    "    return X_final, summary_OLS(X_final, y_copy, feature_include)\n"
   ]
  },
  {
   "cell_type": "code",
   "execution_count": 18,
   "metadata": {},
   "outputs": [
    {
     "name": "stdout",
     "output_type": "stream",
     "text": [
      "Forward selection using threshold 0.1\n",
      " \n",
      "            Coefficients  Standard deviance  p-values\n",
      "intercept      0.000000           0.053518  1.000000\n",
      "FLGROSS        0.525054           0.058168  0.000000\n",
      "FLGEW          0.274859           0.058023  0.000004\n",
      "MALE           0.267114           0.079119  0.000854\n"
     ]
    }
   ],
   "source": [
    "X_forsec_1_train, summary_forsec_1_train = forward_selection(X_train, y_train, 1e-1)\n",
    "print(\"Forward selection using threshold 0.1\\n \\n\",summary_forsec_1_train)"
   ]
  },
  {
   "cell_type": "code",
   "execution_count": 19,
   "metadata": {},
   "outputs": [
    {
     "name": "stdout",
     "output_type": "stream",
     "text": [
      "Forward selection using threshold 0.001\n",
      " \n",
      "            Coefficients  Standard deviance  p-values\n",
      "intercept      0.000000           0.053518  1.000000\n",
      "FLGROSS        0.525054           0.058168  0.000000\n",
      "FLGEW          0.274859           0.058023  0.000004\n",
      "MALE           0.267114           0.079119  0.000854\n"
     ]
    }
   ],
   "source": [
    "X_forsec_2_train, summary_forsec_2_train = forward_selection(X_train, y_train, 1e-3)\n",
    "print(f\"Forward selection using threshold 0.001\\n \\n\",summary_forsec_2_train)"
   ]
  },
  {
   "cell_type": "markdown",
   "metadata": {},
   "source": [
    "It is interesting to note that using the same criteria $\\alpha$ for p-value in both backward elimination and forward selection, for $\\alpha=0.1$ the number of variables in the model is higher for backward elimination (6) than forward selection (3). For $\\alpha=0.001$ the backward selection model contains three variables, while the forward selection contains two variables. The variable FLGROSS is included in every model and seems to be the most significant. Looking at the low p-values of the remaining variables of the new models, I think it is likely that these models will perform better than the full models, as eliminating the other variables with higher p-values is like eliminating noise. "
   ]
  },
  {
   "cell_type": "markdown",
   "metadata": {},
   "source": [
    "## Problem 1.4\n"
   ]
  },
  {
   "cell_type": "code",
   "execution_count": 20,
   "metadata": {},
   "outputs": [],
   "source": [
    "# Need to write my own bootstrap algorithm \n",
    "\n",
    "def bootstrap(y, n_iter=1000):\n",
    "    N = len(y)\n",
    "    N_train = int(0.8*N)\n",
    "    N_test = int(0.2*N)\n",
    "    \n",
    "    # Randomly choose indices from a list of all possible indices\n",
    "    all_indices = np.arange(N)    \n",
    "    indices_bootstrapped = []\n",
    "    for i in range(n_iter):\n",
    "        indices_train = np.random.choice(all_indices, size=N_train, replace=True)\n",
    "        indices_test = np.random.choice(all_indices, size=N_test, replace=True)\n",
    "        \n",
    "        indices_bootstrapped.append([indices_train, indices_test])\n",
    "        \n",
    "    return indices_bootstrapped\n",
    "    \n",
    "    "
   ]
  },
  {
   "cell_type": "code",
   "execution_count": 21,
   "metadata": {},
   "outputs": [],
   "source": [
    "shrinkage_param = np.logspace(-3, -1, 1000)\n",
    "\n",
    "# Lasso with 5-fold cross validation \n",
    "reg_lasso_cv = skllm.LassoCV(alphas=shrinkage_param, cv=5, n_jobs=-1, fit_intercept=False).fit(X_train, y_train)\n",
    "# calculate mean square error for the test on each fold, \n",
    "# then take the mean over all folds axis=1\n",
    "MSE_lasso_cv = np.mean(reg_lasso_cv.mse_path_, axis=1)\n"
   ]
  },
  {
   "cell_type": "code",
   "execution_count": 22,
   "metadata": {},
   "outputs": [],
   "source": [
    "# Initiate bootstrap splitting\n",
    "a = bootstrap(y_train, n_iter=100)\n",
    "\n",
    "# Then use LassoCV with the bootstrap splitting instead of CV\n",
    "reg_lasso_bootstrap = skllm.LassoCV(alphas=shrinkage_param, cv=a, n_jobs=-1, fit_intercept=False).fit(X_train, y_train)\n",
    "MSE_lasso_bootstrap = np.mean(reg_lasso_bootstrap.mse_path_, axis=1)"
   ]
  },
  {
   "cell_type": "code",
   "execution_count": 23,
   "metadata": {},
   "outputs": [
    {
     "data": {
      "image/png": "[encoded data removed]",
      "text/plain": [
       "<Figure size 720x360 with 1 Axes>"
      ]
     },
     "metadata": {
      "needs_background": "light"
     },
     "output_type": "display_data"
    }
   ],
   "source": [
    "# Plotting expected error over hyperparameter values\n",
    "figure_lasso = plt.figure(figsize=(10,5))\n",
    "plt.semilogx(shrinkage_param, MSE_lasso_cv[::-1], label=\"5-fold CV\")\n",
    "plt.semilogx(shrinkage_param, MSE_lasso_bootstrap[::-1], label=\"Bootstrap\")\n",
    "plt.xlabel(r\"Hyperparameter $\\lambda$\")\n",
    "plt.ylabel(\"EPE\")\n",
    "plt.legend()\n",
    "plt.grid()\n",
    "plt.show()\n",
    "\n"
   ]
  },
  {
   "cell_type": "code",
   "execution_count": 24,
   "metadata": {},
   "outputs": [
    {
     "name": "stdout",
     "output_type": "stream",
     "text": [
      "The best shrinkage parameter for Lasso using CV is 2.32e-02 with R2 score of 0.59\n",
      "The best shrinkage parameter for Lasso using bootstrap is 1.49e-02 with R2 score of 0.59\n"
     ]
    }
   ],
   "source": [
    "print(f\"The best shrinkage parameter for Lasso using CV is {reg_lasso_cv.alpha_:.2e} \"+ \n",
    "      f\"with R2 score of {reg_lasso_cv.score(X_test,y_test):.2f}\")\n",
    "\n",
    "\n",
    "print(f\"The best shrinkage parameter for Lasso using bootstrap is {reg_lasso_bootstrap.alpha_:.2e} \"+ \n",
    "      f\"with R2 score of {reg_lasso_bootstrap.score(X_test,y_test):.2f}\")"
   ]
  },
  {
   "cell_type": "markdown",
   "metadata": {},
   "source": [
    "From the plot, the EPE found using bootstrap is noticably lower than the EPE found using 5-fold cross validation. This is due to the severe underestimation of the EPE by the bootstrapping method, as the training and test sets are not independent. This can be improved by using e.g. 0.632 bootstrap."
   ]
  },
  {
   "cell_type": "markdown",
   "metadata": {},
   "source": [
    "## Problem 1.5"
   ]
  },
  {
   "cell_type": "code",
   "execution_count": 25,
   "metadata": {},
   "outputs": [
    {
     "data": {
      "image/png": "[encoded data removed]",
      "text/plain": [
       "<Figure size 1080x720 with 25 Axes>"
      ]
     },
     "metadata": {
      "needs_background": "light"
     },
     "output_type": "display_data"
    }
   ],
   "source": [
    "# Checking for linear dependence\n",
    "\n",
    "# Fitting linear GAM \n",
    "gam_check = pygam.LinearGAM().fit(X_train.values, y_train.values)\n",
    "\n",
    "# Plotting\n",
    "fig, axes = plt.subplots(5, 5, figsize=[15, 10], sharey=True)\n",
    "for i, ax in enumerate(axes.ravel()):\n",
    "    XX = gam_check.generate_X_grid(i)\n",
    "    pdep, confi = gam_check.partial_dependence(term=i, X=XX, width=0.95, meshgrid=False)\n",
    "    ax.plot(XX[:, i], pdep, c=\"black\")\n",
    "    ax.plot(XX[:, i], confi[:, 0], c=\"green\", ls=\"--\")\n",
    "    ax.plot(XX[:, i], confi[:, 1], c=\"green\", ls=\"--\")\n",
    "    ax.set_title(X_train.columns.values[i])\n",
    "fig.tight_layout()\n",
    "plt.show()"
   ]
  },
  {
   "cell_type": "markdown",
   "metadata": {},
   "source": [
    "Judging from the above plots, the variables that seem nonlinear to me are FLGROSS, FTEH24 and FLGEW.\n",
    "\n",
    "First we try to fit a GAM:"
   ]
  },
  {
   "cell_type": "code",
   "execution_count": 26,
   "metadata": {},
   "outputs": [
    {
     "name": "stderr",
     "output_type": "stream",
     "text": [
      "100% (150 of 150) |######################| Elapsed Time: 0:00:15 Time:  0:00:15\n"
     ]
    }
   ],
   "source": [
    "nonlinear_features = [\"FLGROSS\", \"FTEH24\",\"FLGEW\"]\n",
    "\n",
    "# In pygam, pygam.l indicates linear, pygam.s is splines\n",
    "\n",
    "# Initializing pygam for the first variable ADHEU, which is linear:\n",
    "gam_feature_type =  pygam.l(0)\n",
    "\n",
    "# Then for the rest of the features:\n",
    "for i, feature in enumerate(X_train.columns.values[1:]):\n",
    "    # Splines for non-linear features\n",
    "    if feature in nonlinear_features:\n",
    "        gam_feature_type +=  pygam.s(i, spline_order=3, n_splines=5)\n",
    "    #  And linear for the others\n",
    "    else:\n",
    "        gam_feature_type += pygam.l(i)\n",
    "\n",
    "        \n",
    "# Grid search over penalties in log space and train the model\n",
    "penalties = np.logspace(-5, 2, 150)        \n",
    "gam = pygam.LinearGAM(gam_feature_type).gridsearch(\n",
    "    X_train.values, y_train.values, lam=penalties\n",
    ")\n",
    "\n"
   ]
  },
  {
   "cell_type": "markdown",
   "metadata": {},
   "source": [
    "There apparently is a [bug](https://github.com/dswah/pyGAM/blob/master/pygam/pygam.py#L1672) in the pygam library where the p-values are incorrectly calculated and underestimated, so I have chosen not to include those results as the p-values would be lower than they should and would not be meaningful to interpret. "
   ]
  },
  {
   "cell_type": "code",
   "execution_count": 27,
   "metadata": {},
   "outputs": [
    {
     "name": "stdout",
     "output_type": "stream",
     "text": [
      "R^2 score test: 0.57, R^2 score train: 0.64\n"
     ]
    }
   ],
   "source": [
    "r2_test_gam = gam._estimate_r2(X_test.values, y_test.values)[\"explained_deviance\"]\n",
    "r2_train_gam = gam._estimate_r2(X_train.values, y_train.values)[\"explained_deviance\"]\n",
    "print(f\"R^2 score test: {r2_test_gam:.2f}, R^2 score train: {r2_train_gam:.2f}\")"
   ]
  },
  {
   "cell_type": "markdown",
   "metadata": {},
   "source": [
    "Now we will try to add non-linear terms to the linear model:"
   ]
  },
  {
   "cell_type": "code",
   "execution_count": 28,
   "metadata": {},
   "outputs": [],
   "source": [
    "# First need to undo the scaling and centering of the data for training and test set:\n",
    "variables_train_new = scaler.inverse_transform(\n",
    "    variables_final_train.loc[:, col_continuous]\n",
    ")\n",
    "\n",
    "variables_test_new = scaler.inverse_transform(\n",
    "    variables_final_test.loc[:, col_continuous]\n",
    ")\n",
    "\n",
    "# Turn into dataframes \n",
    "variables_train_new_df = pd.DataFrame(variables_train_new, columns=list(col_continuous))\n",
    "variables_test_new_df = pd.DataFrame(variables_test_new, columns=list(col_continuous))\n",
    "\n"
   ]
  },
  {
   "cell_type": "code",
   "execution_count": 29,
   "metadata": {},
   "outputs": [],
   "source": [
    "X_train_new = variables_train_new_df.loc[:, variables_train_new_df.columns!=\"FFVC\"]\n",
    "X_test_new = variables_test_new_df.loc[:, variables_test_new_df.columns!=\"FFVC\"]\n",
    "\n",
    "features_continuous = col_continuous[col_continuous!=\"FFVC\"]\n",
    "\n",
    "X_nonlinear_train = []\n",
    "X_nonlinear_test = []\n",
    "nonlinear_names = []\n",
    "\n",
    "# Looping to add 2nd and 3rd degree order features of the ones I identified \n",
    "# earlier as non-linear and adding to a list\n",
    "for i, feature in enumerate(features_continuous):\n",
    "    if feature in nonlinear_features:\n",
    "        # Adding 2nd degree to the features \n",
    "        X_nonlinear_train.append(X_train_new.values[:, i]**2)\n",
    "        X_nonlinear_test.append(X_test_new.values[:, i]**2)\n",
    "        nonlinear_names.append(feature + \"^2\")\n",
    "        # Adding 3rd degree to the features \n",
    "        X_nonlinear_train.append(X_train_new.values[:, i]**3)\n",
    "        X_nonlinear_test.append(X_test_new.values[:, i]**3)\n",
    "        nonlinear_names.append(feature + \"^3\")\n",
    "\n",
    "# Convert list into arrays, transpose arrays to get them in the right dimensions        \n",
    "X_nonlinear_train = np.array(X_nonlinear_train).T\n",
    "X_nonlinear_test = np.array(X_nonlinear_test).T"
   ]
  },
  {
   "cell_type": "code",
   "execution_count": 30,
   "metadata": {},
   "outputs": [],
   "source": [
    "# Now we need to scale and center the new non-linear terms:\n",
    "scaler_nonlinear = sklpre.StandardScaler().fit(X_nonlinear_train)\n",
    "\n",
    "X_nonlinear_train_scaled = scaler_nonlinear.transform(X_nonlinear_train)\n",
    "X_nonlinear_test_scaled = scaler_nonlinear.transform(X_nonlinear_test)\n",
    "\n",
    "# Turn into data frames of non-linear features\n",
    "X_nonlinear_train_scaled_df = pd.DataFrame(X_nonlinear_train_scaled, columns = nonlinear_names)\n",
    "X_nonlinear_test_scaled_df = pd.DataFrame(X_nonlinear_test_scaled, columns = nonlinear_names)\n"
   ]
  },
  {
   "cell_type": "code",
   "execution_count": 31,
   "metadata": {},
   "outputs": [
    {
     "name": "stdout",
     "output_type": "stream",
     "text": [
      "R^2 score for nonlinear model: 0.5874063724704847\n"
     ]
    },
    {
     "data": {
      "text/html": [
       "<div>\n",
       "<style scoped>\n",
       "    .dataframe tbody tr th:only-of-type {\n",
       "        vertical-align: middle;\n",
       "    }\n",
       "\n",
       "    .dataframe tbody tr th {\n",
       "        vertical-align: top;\n",
       "    }\n",
       "\n",
       "    .dataframe thead th {\n",
       "        text-align: right;\n",
       "    }\n",
       "</style>\n",
       "<table border=\"1\" class=\"dataframe\">\n",
       "  <thead>\n",
       "    <tr style=\"text-align: right;\">\n",
       "      <th></th>\n",
       "      <th>Coefficients</th>\n",
       "      <th>Standard deviance</th>\n",
       "      <th>p-values</th>\n",
       "    </tr>\n",
       "  </thead>\n",
       "  <tbody>\n",
       "    <tr>\n",
       "      <th>intercept</th>\n",
       "      <td>0.000000</td>\n",
       "      <td>0.065415</td>\n",
       "      <td>1.000000e+00</td>\n",
       "    </tr>\n",
       "    <tr>\n",
       "      <th>ADHEU</th>\n",
       "      <td>-0.179655</td>\n",
       "      <td>0.168157</td>\n",
       "      <td>2.863953e-01</td>\n",
       "    </tr>\n",
       "    <tr>\n",
       "      <th>HOCHOZON</th>\n",
       "      <td>-0.054679</td>\n",
       "      <td>0.111131</td>\n",
       "      <td>6.231376e-01</td>\n",
       "    </tr>\n",
       "    <tr>\n",
       "      <th>AMATOP</th>\n",
       "      <td>0.063849</td>\n",
       "      <td>0.092787</td>\n",
       "      <td>4.920193e-01</td>\n",
       "    </tr>\n",
       "    <tr>\n",
       "      <th>AVATOP</th>\n",
       "      <td>0.055338</td>\n",
       "      <td>0.104488</td>\n",
       "      <td>5.968597e-01</td>\n",
       "    </tr>\n",
       "    <tr>\n",
       "      <th>ADEKZ</th>\n",
       "      <td>0.053905</td>\n",
       "      <td>0.097556</td>\n",
       "      <td>5.810695e-01</td>\n",
       "    </tr>\n",
       "    <tr>\n",
       "      <th>ARAUCH</th>\n",
       "      <td>-0.010327</td>\n",
       "      <td>0.085392</td>\n",
       "      <td>9.038379e-01</td>\n",
       "    </tr>\n",
       "    <tr>\n",
       "      <th>FSNIGHT</th>\n",
       "      <td>0.201401</td>\n",
       "      <td>0.161667</td>\n",
       "      <td>2.140253e-01</td>\n",
       "    </tr>\n",
       "    <tr>\n",
       "      <th>FMILB</th>\n",
       "      <td>0.006420</td>\n",
       "      <td>0.143176</td>\n",
       "      <td>9.642692e-01</td>\n",
       "    </tr>\n",
       "    <tr>\n",
       "      <th>FTIER</th>\n",
       "      <td>-0.049198</td>\n",
       "      <td>0.135242</td>\n",
       "      <td>7.163383e-01</td>\n",
       "    </tr>\n",
       "    <tr>\n",
       "      <th>FPOLL</th>\n",
       "      <td>0.132661</td>\n",
       "      <td>0.180397</td>\n",
       "      <td>4.628039e-01</td>\n",
       "    </tr>\n",
       "    <tr>\n",
       "      <th>FSPT</th>\n",
       "      <td>-0.195817</td>\n",
       "      <td>0.190351</td>\n",
       "      <td>3.046199e-01</td>\n",
       "    </tr>\n",
       "    <tr>\n",
       "      <th>FSATEM</th>\n",
       "      <td>0.095614</td>\n",
       "      <td>0.259601</td>\n",
       "      <td>7.129565e-01</td>\n",
       "    </tr>\n",
       "    <tr>\n",
       "      <th>FSAUGE</th>\n",
       "      <td>0.025634</td>\n",
       "      <td>0.142304</td>\n",
       "      <td>8.571932e-01</td>\n",
       "    </tr>\n",
       "    <tr>\n",
       "      <th>FSPFEI</th>\n",
       "      <td>0.026740</td>\n",
       "      <td>0.264044</td>\n",
       "      <td>9.194162e-01</td>\n",
       "    </tr>\n",
       "    <tr>\n",
       "      <th>FSHLAUF</th>\n",
       "      <td>-0.157032</td>\n",
       "      <td>0.190953</td>\n",
       "      <td>4.116643e-01</td>\n",
       "    </tr>\n",
       "    <tr>\n",
       "      <th>MALE</th>\n",
       "      <td>0.312190</td>\n",
       "      <td>0.053934</td>\n",
       "      <td>2.147593e-08</td>\n",
       "    </tr>\n",
       "    <tr>\n",
       "      <th>FEMALE</th>\n",
       "      <td>-0.203990</td>\n",
       "      <td>0.049617</td>\n",
       "      <td>5.359829e-05</td>\n",
       "    </tr>\n",
       "    <tr>\n",
       "      <th>ALTER</th>\n",
       "      <td>0.049344</td>\n",
       "      <td>0.047181</td>\n",
       "      <td>2.966468e-01</td>\n",
       "    </tr>\n",
       "    <tr>\n",
       "      <th>AGEBGEW</th>\n",
       "      <td>0.048558</td>\n",
       "      <td>0.040577</td>\n",
       "      <td>2.325798e-01</td>\n",
       "    </tr>\n",
       "    <tr>\n",
       "      <th>FLGROSS</th>\n",
       "      <td>2.323848</td>\n",
       "      <td>29.897032</td>\n",
       "      <td>9.381071e-01</td>\n",
       "    </tr>\n",
       "    <tr>\n",
       "      <th>FNOH24</th>\n",
       "      <td>-0.145135</td>\n",
       "      <td>0.053663</td>\n",
       "      <td>7.315055e-03</td>\n",
       "    </tr>\n",
       "    <tr>\n",
       "      <th>FLTOTMED</th>\n",
       "      <td>-0.029627</td>\n",
       "      <td>0.042048</td>\n",
       "      <td>4.817272e-01</td>\n",
       "    </tr>\n",
       "    <tr>\n",
       "      <th>FO3H24</th>\n",
       "      <td>0.102470</td>\n",
       "      <td>0.090602</td>\n",
       "      <td>2.591540e-01</td>\n",
       "    </tr>\n",
       "    <tr>\n",
       "      <th>FTEH24</th>\n",
       "      <td>1.641090</td>\n",
       "      <td>1.163667</td>\n",
       "      <td>1.597168e-01</td>\n",
       "    </tr>\n",
       "    <tr>\n",
       "      <th>FLGEW</th>\n",
       "      <td>4.722430</td>\n",
       "      <td>1.403373</td>\n",
       "      <td>8.871574e-04</td>\n",
       "    </tr>\n",
       "    <tr>\n",
       "      <th>FLGROSS^2</th>\n",
       "      <td>-6.883856</td>\n",
       "      <td>60.101755</td>\n",
       "      <td>9.089054e-01</td>\n",
       "    </tr>\n",
       "    <tr>\n",
       "      <th>FLGROSS^3</th>\n",
       "      <td>4.970747</td>\n",
       "      <td>30.253974</td>\n",
       "      <td>8.696289e-01</td>\n",
       "    </tr>\n",
       "    <tr>\n",
       "      <th>FTEH24^2</th>\n",
       "      <td>-3.976683</td>\n",
       "      <td>2.488332</td>\n",
       "      <td>1.112921e-01</td>\n",
       "    </tr>\n",
       "    <tr>\n",
       "      <th>FTEH24^3</th>\n",
       "      <td>2.302274</td>\n",
       "      <td>1.349919</td>\n",
       "      <td>8.936009e-02</td>\n",
       "    </tr>\n",
       "    <tr>\n",
       "      <th>FLGEW^2</th>\n",
       "      <td>-7.930333</td>\n",
       "      <td>2.605203</td>\n",
       "      <td>2.586696e-03</td>\n",
       "    </tr>\n",
       "    <tr>\n",
       "      <th>FLGEW^3</th>\n",
       "      <td>3.584476</td>\n",
       "      <td>1.261148</td>\n",
       "      <td>4.854215e-03</td>\n",
       "    </tr>\n",
       "  </tbody>\n",
       "</table>\n",
       "</div>"
      ],
      "text/plain": [
       "           Coefficients  Standard deviance      p-values\n",
       "intercept      0.000000           0.065415  1.000000e+00\n",
       "ADHEU         -0.179655           0.168157  2.863953e-01\n",
       "HOCHOZON      -0.054679           0.111131  6.231376e-01\n",
       "AMATOP         0.063849           0.092787  4.920193e-01\n",
       "AVATOP         0.055338           0.104488  5.968597e-01\n",
       "ADEKZ          0.053905           0.097556  5.810695e-01\n",
       "ARAUCH        -0.010327           0.085392  9.038379e-01\n",
       "FSNIGHT        0.201401           0.161667  2.140253e-01\n",
       "FMILB          0.006420           0.143176  9.642692e-01\n",
       "FTIER         -0.049198           0.135242  7.163383e-01\n",
       "FPOLL          0.132661           0.180397  4.628039e-01\n",
       "FSPT          -0.195817           0.190351  3.046199e-01\n",
       "FSATEM         0.095614           0.259601  7.129565e-01\n",
       "FSAUGE         0.025634           0.142304  8.571932e-01\n",
       "FSPFEI         0.026740           0.264044  9.194162e-01\n",
       "FSHLAUF       -0.157032           0.190953  4.116643e-01\n",
       "MALE           0.312190           0.053934  2.147593e-08\n",
       "FEMALE        -0.203990           0.049617  5.359829e-05\n",
       "ALTER          0.049344           0.047181  2.966468e-01\n",
       "AGEBGEW        0.048558           0.040577  2.325798e-01\n",
       "FLGROSS        2.323848          29.897032  9.381071e-01\n",
       "FNOH24        -0.145135           0.053663  7.315055e-03\n",
       "FLTOTMED      -0.029627           0.042048  4.817272e-01\n",
       "FO3H24         0.102470           0.090602  2.591540e-01\n",
       "FTEH24         1.641090           1.163667  1.597168e-01\n",
       "FLGEW          4.722430           1.403373  8.871574e-04\n",
       "FLGROSS^2     -6.883856          60.101755  9.089054e-01\n",
       "FLGROSS^3      4.970747          30.253974  8.696289e-01\n",
       "FTEH24^2      -3.976683           2.488332  1.112921e-01\n",
       "FTEH24^3       2.302274           1.349919  8.936009e-02\n",
       "FLGEW^2       -7.930333           2.605203  2.586696e-03\n",
       "FLGEW^3        3.584476           1.261148  4.854215e-03"
      ]
     },
     "execution_count": 31,
     "metadata": {},
     "output_type": "execute_result"
    }
   ],
   "source": [
    "# Join the new non-linear features with the old linear ones \n",
    "X_train_nonlinear = X_train.join(X_nonlinear_train_scaled_df)\n",
    "\n",
    "X_test_nonlinear = X_test.join(X_nonlinear_test_scaled_df)\n",
    "\n",
    "# Calculate coefficients, std and p-values\n",
    "summary_nonlinear = summary_OLS(X_train_nonlinear, y_train, X_train_nonlinear.columns.values)\n",
    "\n",
    "OLS_nonlinear = skllm.LinearRegression(fit_intercept=False).fit(X_train_nonlinear, y_train)\n",
    "print(f\"R^2 score for nonlinear model: {OLS_nonlinear.score(X_test_nonlinear, y_test)}\")\n",
    "\n",
    "summary_nonlinear"
   ]
  },
  {
   "cell_type": "markdown",
   "metadata": {},
   "source": [
    "Looking at the $R^2$ score for the non-linear model, it does not seem to perform better than our previous models either, but seems to perform on par with the others. What is interesting is that the p-value for FLGEW^2 and FLGEW^3 seem to be rather low, so perhaps using these non-linear features with a penalized regression method such as the Lasso or the forward selection and backward elimination methods would yield better results. "
   ]
  },
  {
   "cell_type": "markdown",
   "metadata": {},
   "source": [
    "## Problem 1.6\n",
    "\n",
    "Apparently, Python doesn't have any well-known libraries for boosting, so this was done using R with Jupyter Notebook. Using %%R at the top of the cell transforms the entire cell into an R cell. "
   ]
  },
  {
   "cell_type": "code",
   "execution_count": 32,
   "metadata": {},
   "outputs": [],
   "source": [
    "%%R -i df_train -i df_test\n",
    "\n",
    "library(compboost)\n",
    "library(ggplot2)\n"
   ]
  },
  {
   "cell_type": "code",
   "execution_count": 33,
   "metadata": {},
   "outputs": [
    {
     "name": "stdout",
     "output_type": "stream",
     "text": [
      "  1/100: risk = 0.47\n",
      " 10/100: risk = 0.32\n",
      " 20/100: risk = 0.25\n",
      " 30/100: risk = 0.22\n",
      " 40/100: risk = 0.2\n",
      " 50/100: risk = 0.19\n",
      " 60/100: risk = 0.18\n",
      " 70/100: risk = 0.17\n",
      " 80/100: risk = 0.17\n",
      " 90/100: risk = 0.17\n",
      "100/100: risk = 0.17\n",
      "\n",
      "\n",
      "Train 100 iterations in 0 Seconds.\n",
      "Final risk based on the train set: 0.17\n",
      "\n",
      "$AGEBGEW_linear\n",
      "              [,1]\n",
      "[1,] -1.203536e-18\n",
      "[2,]  8.236995e-03\n",
      "\n",
      "$ALTER_linear\n",
      "              [,1]\n",
      "[1,] -1.472307e-17\n",
      "[2,]  1.930911e-02\n",
      "\n",
      "$FEMALE_linear\n",
      "           [,1]\n",
      "[1,]  0.1892782\n",
      "[2,] -0.3529398\n",
      "\n",
      "$FLGEW_linear\n",
      "             [,1]\n",
      "[1,] 2.085534e-17\n",
      "[2,] 2.511648e-01\n",
      "\n",
      "$FLGROSS_linear\n",
      "              [,1]\n",
      "[1,] -1.170800e-16\n",
      "[2,]  4.631095e-01\n",
      "\n",
      "$FNOH24_linear\n",
      "              [,1]\n",
      "[1,]  1.412964e-17\n",
      "[2,] -5.681454e-02\n",
      "\n",
      "$MALE_linear\n",
      "            [,1]\n",
      "[1,] -0.02164369\n",
      "[2,]  0.04667508\n",
      "\n",
      "$offset\n",
      "[1] -1.360919e-15\n",
      "\n"
     ]
    }
   ],
   "source": [
    "%%R\n",
    "\n",
    "linear_boost <- boostLinear(data = df_train, target = \"FFVC\", loss = LossQuadratic$new(), trace=10)\n",
    "\n",
    "linear_boost$getEstimatedCoef()"
   ]
  },
  {
   "cell_type": "code",
   "execution_count": 34,
   "metadata": {},
   "outputs": [
    {
     "name": "stdout",
     "output_type": "stream",
     "text": [
      "  1/100: risk = 0.47\n",
      " 10/100: risk = 0.31\n",
      " 20/100: risk = 0.24\n",
      " 30/100: risk = 0.2\n",
      " 40/100: risk = 0.18\n",
      " 50/100: risk = 0.17\n",
      " 60/100: risk = 0.16\n",
      " 70/100: risk = 0.15\n",
      " 80/100: risk = 0.14\n",
      " 90/100: risk = 0.14\n",
      "100/100: risk = 0.14\n",
      "\n",
      "\n",
      "Train 100 iterations in 0 Seconds.\n",
      "Final risk based on the train set: 0.14\n",
      "\n",
      "\n",
      "AGEBGEW_spline   ALTER_spline  FEMALE_spline   FLGEW_spline FLGROSS_spline \n",
      "            10             12             10             17             24 \n",
      " FNOH24_spline  FTEH24_spline    MALE_spline \n",
      "             6             16              5 \n"
     ]
    }
   ],
   "source": [
    "%%R\n",
    "spline_boost <- boostSplines(data = df_train, target = \"FFVC\", loss = LossQuadratic$new(), trace=10)\n",
    "\n",
    "table(spline_boost$getSelectedBaselearner())"
   ]
  },
  {
   "cell_type": "markdown",
   "metadata": {},
   "source": [
    "For component-wise boosting with trees, I wasn't able to find a similar method in the compboost package for R. Looking online, I did manage to find [mboost](https://cran.r-project.org/web/packages/mboost/mboost.pdf) which says it uses \"component-wise (penalized) least squares estimates or regression trees as base-learners\", so I hope it is correct to use this package for this purpose. I was not able to download this package, however. I tried troubleshooting this, but was not able to make it work. Sorry!\n"
   ]
  },
  {
   "cell_type": "code",
   "execution_count": 35,
   "metadata": {},
   "outputs": [
    {
     "name": "stderr",
     "output_type": "stream",
     "text": [
      "R[write to console]: Error in library(mboost) : there is no package called ‘mboost’\n",
      "Calls: <Anonymous> -> <Anonymous> -> withVisible -> library\n",
      "\n"
     ]
    },
    {
     "name": "stdout",
     "output_type": "stream",
     "text": [
      "\n",
      "Error in library(mboost) : there is no package called ‘mboost’\n",
      "Calls: <Anonymous> -> <Anonymous> -> withVisible -> library\n"
     ]
    }
   ],
   "source": [
    "%%R \n",
    "library(mboost)\n",
    "\n",
    "tree_boost <- blackboost(data=df_train, target=\"FFVC\")"
   ]
  },
  {
   "cell_type": "markdown",
   "metadata": {},
   "source": [
    "## Problem 1.7"
   ]
  },
  {
   "cell_type": "code",
   "execution_count": 36,
   "metadata": {},
   "outputs": [
    {
     "name": "stdout",
     "output_type": "stream",
     "text": [
      "MSE test for full OLS model: 0.38\n",
      "MSE train for full OLS model: 0.31\n",
      "\n",
      "MSE train for backwards elimination model using threshold = 0.1: 0.34\n",
      "MSE test for backwards elimination model using threshold = 0.1: 0.37\n",
      "\n",
      "MSE train for backwards elimination model using threshold = 0.01: 0.37\n",
      "MSE test for backwards elimination model using threshold = 0.01: 0.40\n",
      "\n",
      "MSE train for forward selection model using threshold = 0.1: 0.34\n",
      "MSE test for forward selection model using threshold = 0.1: 0.37\n",
      "\n",
      "MSE train for forward selection model using threshold = 0.01: 0.34\n",
      "MSE test for forward selection model using threshold = 0.01: 0.37\n",
      "\n",
      "MSE train for Lasso model using CV: 0.33\n",
      "MSE test for Lasso model using CV: 1.50\n",
      "\n",
      "MSE train for Lasso model using bootstrapping: 0.33\n",
      "MSE test for Lasso model using bootstrapping: 0.38\n",
      "\n",
      "MSE train for GAM model: 0.36\n",
      "MSE test for GAM model: 1.42\n",
      "\n",
      "MSE train for nonlinear model: 0.29\n",
      "MSE test for nonlinear model: 0.38\n",
      "\n",
      "MSE train for linear boosting model: 0.34\n",
      "MSE test for linear boosting model: 0.38\n",
      "\n",
      "MSE train for spline boosting model: 0.27\n"
     ]
    }
   ],
   "source": [
    "# MSE for full OLS model \n",
    "OLS = skllm.LinearRegression()\n",
    "\n",
    "\n",
    "OLS_full = OLS.fit(X_train, y_train)\n",
    "\n",
    "y_OLS_train = OLS_full.predict(X_train)\n",
    "MSE_OLS_train = sklm.mean_squared_error(y_train, y_OLS_train)\n",
    "\n",
    "y_OLS_test = OLS_full.predict(X_test)\n",
    "MSE_OLS_test = sklm.mean_squared_error(y_test, y_OLS_test)\n",
    "\n",
    "print(f\"MSE test for full OLS model: {MSE_OLS_test:.2f}\")\n",
    "print(f\"MSE train for full OLS model: {MSE_OLS_train:.2f}\\n\")\n",
    "\n",
    "\n",
    "# MSE for backward elimination model\n",
    "OLS_backelim_1 = OLS.fit(X_backelim_1_train, y_train)\n",
    "\n",
    "y_OLS_backelim_1_train = OLS_backelim_1.predict(X_backelim_1_train)\n",
    "MSE_OLS_backelim_1_train = sklm.mean_squared_error(y_train, y_OLS_backelim_1_train)\n",
    "\n",
    "features_backelim_1 = X_backelim_1_train.columns.values\n",
    "\n",
    "X_backelim_1_test = X_test.loc[:, features_backelim_1]\n",
    "y_OLS_backelim_1_test = OLS_backelim_1.predict(X_backelim_1_test)\n",
    "MSE_OLS_backelim_1_test = sklm.mean_squared_error(y_test, y_OLS_backelim_1_test)\n",
    "\n",
    "print(f\"MSE train for backwards elimination model using threshold = 0.1: {MSE_OLS_backelim_1_train:.2f}\")\n",
    "print(f\"MSE test for backwards elimination model using threshold = 0.1: {MSE_OLS_backelim_1_test:.2f}\\n\")\n",
    "\n",
    "\n",
    "# MSE for backward elimination model. \n",
    "OLS_backelim_2 = OLS.fit(X_backelim_2_train, y_train)\n",
    "\n",
    "y_OLS_backelim_2_train = OLS_backelim_2.predict(X_backelim_2_train)\n",
    "MSE_OLS_backelim_2_train = sklm.mean_squared_error(y_train, y_OLS_backelim_2_train)\n",
    "\n",
    "features_backelim_2 = X_backelim_2_train.columns.values\n",
    "\n",
    "X_backelim_2_test = X_test.loc[:, features_backelim_2]\n",
    "y_OLS_backelim_2_test = OLS_backelim_2.predict(X_backelim_2_test)\n",
    "MSE_OLS_backelim_2_test = sklm.mean_squared_error(y_test, y_OLS_backelim_2_test)\n",
    "\n",
    "print(f\"MSE train for backwards elimination model using threshold = 0.01: {MSE_OLS_backelim_2_train:.2f}\")\n",
    "print(f\"MSE test for backwards elimination model using threshold = 0.01: {MSE_OLS_backelim_2_test:.2f}\\n\")\n",
    "\n",
    "# MSE for forward selection model\n",
    "OLS_forsec_1 = OLS.fit(X_forsec_1_train, y_train)\n",
    "\n",
    "y_OLS_forsec_1_train = OLS_forsec_1.predict(X_forsec_1_train)\n",
    "MSE_OLS_forsec_1_train = sklm.mean_squared_error(y_train, y_OLS_forsec_1_train)\n",
    "\n",
    "features_forsec_1 = X_forsec_1_train.columns.values\n",
    "\n",
    "X_forsec_1_test = X_test.loc[:, features_forsec_1]\n",
    "y_OLS_forsec_1_test = OLS_forsec_1.predict(X_forsec_1_test)\n",
    "MSE_OLS_forsec_1_test = sklm.mean_squared_error(y_test, y_OLS_forsec_1_test)\n",
    "\n",
    "\n",
    "print(f\"MSE train for forward selection model using threshold = 0.1: {MSE_OLS_forsec_1_train:.2f}\")\n",
    "print(f\"MSE test for forward selection model using threshold = 0.1: {MSE_OLS_forsec_1_test:.2f}\\n\")\n",
    "\n",
    "\n",
    "OLS_forsec_2 = OLS.fit(X_forsec_2_train, y_train)\n",
    "\n",
    "y_OLS_forsec_2_train = OLS_forsec_2.predict(X_forsec_2_train)\n",
    "MSE_OLS_forsec_2_train = sklm.mean_squared_error(y_train, y_OLS_forsec_2_train)\n",
    "\n",
    "features_forsec_2 = X_forsec_2_train.columns.values\n",
    "\n",
    "X_forsec_2_test = X_test.loc[:, features_forsec_2]\n",
    "y_OLS_forsec_2_test = OLS_forsec_2.predict(X_forsec_2_test)\n",
    "MSE_OLS_forsec_2_test = sklm.mean_squared_error(y_test, y_OLS_forsec_2_test)\n",
    "\n",
    "\n",
    "print(f\"MSE train for forward selection model using threshold = 0.01: {MSE_OLS_forsec_2_train:.2f}\")\n",
    "print(f\"MSE test for forward selection model using threshold = 0.01: {MSE_OLS_forsec_2_test:.2f}\\n\")\n",
    "\n",
    "# MSE for Lasso model \n",
    "\n",
    "# reg_lasso_cv instance was already defined and fitted earlier, so we can just call on it again\n",
    "y_lasso_cv_train = reg_lasso_cv.predict(X_train)\n",
    "MSE_lasso_cv_train = sklm.mean_squared_error(y_train, y_lasso_cv_train)\n",
    "\n",
    "y_lasso_cv_test = reg_lasso_cv.predict(X_test)\n",
    "MSE_lasso_cv_test = sklm.mean_squared_error(y_train, y_lasso_cv_test)\n",
    "\n",
    "print(f\"MSE train for Lasso model using CV: {MSE_lasso_cv_train:.2f}\")\n",
    "print(f\"MSE test for Lasso model using CV: {MSE_lasso_cv_test:.2f}\\n\")\n",
    "\n",
    "\n",
    "# reg_lasso_bootstrap instance was also defined and fitted earlier\n",
    "y_lasso_bootstrap_train = reg_lasso_bootstrap.predict(X_train) \n",
    "MSE_lasso_bootstrap_train = sklm.mean_squared_error(y_train, y_lasso_bootstrap_train)\n",
    "\n",
    "y_lasso_bootstrap_test = reg_lasso_bootstrap.predict(X_test)\n",
    "MSE_lasso_bootstrap_test = sklm.mean_squared_error(y_test, y_lasso_bootstrap_test)\n",
    "\n",
    "\n",
    "print(f\"MSE train for Lasso model using bootstrapping: {MSE_lasso_bootstrap_train:.2f}\")\n",
    "print(f\"MSE test for Lasso model using bootstrapping: {MSE_lasso_bootstrap_test:.2f}\\n\")\n",
    "\n",
    "\n",
    "\n",
    "# MSE for GAM model \n",
    "\n",
    "# gam instance was already defined and fitted earlier\n",
    "y_gam_train = gam.predict(X_train)\n",
    "MSE_gam_train = sklm.mean_squared_error(y_train, y_gam_train)\n",
    "\n",
    "y_gam_test = gam.predict(X_test)\n",
    "MSE_gam_test = sklm.mean_squared_error(y_train, y_gam_test)\n",
    "\n",
    "\n",
    "print(f\"MSE train for GAM model: {MSE_gam_train:.2f}\")\n",
    "print(f\"MSE test for GAM model: {MSE_gam_test:.2f}\\n\")\n",
    "\n",
    "# MSE for non-linear model \n",
    "\n",
    "# OLS_nonlinear instance was already defined and fitted earlier\n",
    "\n",
    "y_nonlinear_train = OLS_nonlinear.predict(X_train_nonlinear)\n",
    "MSE_nonlinear_train = sklm.mean_squared_error(y_train, y_nonlinear_train)\n",
    "\n",
    "y_nonlinear_test = OLS_nonlinear.predict(X_test_nonlinear)\n",
    "MSE_nonlinear_test = sklm.mean_squared_error(y_test, y_nonlinear_test)\n",
    "\n",
    "print(f\"MSE train for nonlinear model: {MSE_nonlinear_train:.2f}\")\n",
    "print(f\"MSE test for nonlinear model: {MSE_nonlinear_test:.2f}\\n\")\n",
    "\n",
    "\n",
    "# MSE for linear boosting model\n",
    "\n",
    "y_linearboost_train = %R linear_boost$predict(df_train)\n",
    "MSE_linearboost_train = sklm.mean_squared_error(y_train, y_linearboost_train)\n",
    "\n",
    "y_linearboost_test = %R linear_boost$predict(df_test)\n",
    "MSE_linearboost_test = sklm.mean_squared_error(y_test, y_linearboost_test)\n",
    "\n",
    "\n",
    "print(f\"MSE train for linear boosting model: {MSE_linearboost_train:.2f}\")\n",
    "print(f\"MSE test for linear boosting model: {MSE_linearboost_test:.2f}\\n\")\n",
    "\n",
    "\n",
    "# MSE for splines boosting model\n",
    "\n",
    "y_splineboost_train = %R spline_boost$predict(df_train)\n",
    "MSE_splineboost_train = sklm.mean_squared_error(y_train, y_splineboost_train)\n",
    "\n",
    "print(f\"MSE train for spline boosting model: {MSE_splineboost_train:.2f}\")\n",
    "\n",
    "#y_splineboost_test = %R spline_boost$predict(df_test)\n",
    "#MSE_splineboost_test = sklm.mean_squared_error(y_test, y_splineboost_test)\n",
    "# Sadly, trying to get test error crashes the program? So I guess I can't answer that part"
   ]
  },
  {
   "cell_type": "markdown",
   "metadata": {},
   "source": [
    "For the boost model errors, I needed to export the models written in R to Python. This was done using %R. \n",
    "\n",
    "The lowest MSE train was gained using boosted splines. Sadly, I can't seem to get the MSE for the test set and compare. \n",
    "A lot of the models seem to perform on par with each other. The full OLS model, Lasso model using bootstrap, boosted linear model, and non-linear model seem to perform similarly well. \n",
    "\n",
    "The Lasso model using CV and GAM model seem to have overfitted the data and give far higher test error than train. \n",
    "\n",
    "I earlier said I thought the backwards elimination and forward selection models would perform better than the standard OLS model, but it seems my threshold was too low and I ended up eliminating too many variables. Raising the threshold would probably improve these models. The backwards elimination model using the threshold = 0.1 actually performed better than the backward elimination with lower threshold and forward selection, which supports the claim that the models were too strict. "
   ]
  },
  {
   "cell_type": "markdown",
   "metadata": {},
   "source": [
    "# Problem 2"
   ]
  },
  {
   "cell_type": "code",
   "execution_count": 37,
   "metadata": {},
   "outputs": [],
   "source": [
    "%%R \n",
    "library(mlbench)\n",
    "data(PimaIndiansDiabetes)"
   ]
  },
  {
   "cell_type": "code",
   "execution_count": 38,
   "metadata": {},
   "outputs": [],
   "source": [
    "df_pima = %R PimaIndiansDiabetes\n",
    "X_pima = df_pima.loc[:, df_pima.columns!=\"diabetes\"]\n",
    "y_pima = df_pima.loc[:, \"diabetes\"]\n",
    "\n",
    "# Making pos = True, neg = False, then turning into integers of 1 and 0\n",
    "y_pima = (y_pima.values == \"pos\").astype(np.int)\n",
    "\n",
    "# Dividing into training and test sets with same proportion of positive/negative diabetes and training size 2/3\n",
    "Xp_train_, Xp_test_, yp_train, yp_test = sklms.train_test_split(X_pima, y_pima, stratify=y_pima, test_size=1/3)\n"
   ]
  },
  {
   "cell_type": "code",
   "execution_count": 39,
   "metadata": {},
   "outputs": [],
   "source": [
    "# Define the scaler\n",
    "scaler_p = sklpre.StandardScaler().fit(Xp_train_)\n",
    "\n",
    "# Scale the data with respect to Xp_train \n",
    "Xp_train_scaled = scaler_p.transform(Xp_train_)\n",
    "Xp_test_scaled = scaler_p.transform(Xp_test_)\n",
    "\n",
    "# Turn back into data frames\n",
    "Xp_train = pd.DataFrame(Xp_train_scaled, columns=X_pima.columns)\n",
    "Xp_test = pd.DataFrame(Xp_test_scaled, columns=X_pima.columns)"
   ]
  },
  {
   "cell_type": "markdown",
   "metadata": {},
   "source": [
    "## Problem 2.1"
   ]
  },
  {
   "cell_type": "code",
   "execution_count": 40,
   "metadata": {},
   "outputs": [],
   "source": [
    "# Creating instance of kNN Classifier\n",
    "kNN_model = skln.KNeighborsClassifier()\n",
    "\n",
    "# Creating dictionary of k-values for the grid search\n",
    "k_values = np.arange(1, 120)\n",
    "k_grid = {\"n_neighbors\": k_values}\n",
    "\n",
    "# 5-fold CV grid search\n",
    "kNN_gridsearch_5 = sklms.GridSearchCV(kNN_model, param_grid=k_grid, cv=5, iid=False)\n",
    "\n",
    "# LOO CV grid search\n",
    "loo = sklms.LeaveOneOut()\n",
    "kNN_gridsearch_loo = sklms.GridSearchCV(kNN_model, param_grid=k_grid, cv=loo, iid=False)"
   ]
  },
  {
   "cell_type": "code",
   "execution_count": 41,
   "metadata": {},
   "outputs": [],
   "source": [
    "# Fit the models to the training data with the most optimal k value\n",
    "kNN_train_cv = kNN_gridsearch_5.fit(Xp_train, yp_train)\n",
    "\n",
    "kNN_train_loo = kNN_gridsearch_loo.fit(Xp_train, yp_train)"
   ]
  },
  {
   "cell_type": "code",
   "execution_count": 42,
   "metadata": {},
   "outputs": [],
   "source": [
    "# Retrieving error rates from the CV results \n",
    "kNN_train_cv_err = 1 - kNN_train_cv.cv_results_[\"mean_test_score\"]\n",
    "kNN_train_loo_err = 1 - kNN_train_loo.cv_results_[\"mean_test_score\"]\n",
    "\n",
    "\n",
    "# Calculating test error rates\n",
    "kNN_test_err = np.zeros_like(k_values, dtype=float)\n",
    "\n",
    "for k in k_values:\n",
    "    kNN_test = skln.KNeighborsClassifier(n_neighbors=k).fit(Xp_train, yp_train)\n",
    "    kNN_test_err[k-1] = 1 - kNN_test.score(Xp_test, yp_test)\n",
    "    \n"
   ]
  },
  {
   "cell_type": "code",
   "execution_count": 43,
   "metadata": {},
   "outputs": [
    {
     "data": {
      "image/png": "[encoded data removed]",
      "text/plain": [
       "<Figure size 720x360 with 1 Axes>"
      ]
     },
     "metadata": {
      "needs_background": "light"
     },
     "output_type": "display_data"
    }
   ],
   "source": [
    "# Plotting the error rates over k values\n",
    "figure_kNN = plt.figure(figsize=(10,5))\n",
    "plt.plot(k_values, kNN_train_cv_err, label=\"5-fold CV training\")\n",
    "plt.plot(k_values, kNN_train_loo_err, label=\"LOO CV training\")\n",
    "plt.plot(k_values, kNN_test_err, label=\"Test error\")\n",
    "plt.legend()\n",
    "plt.xlabel(\"k\")\n",
    "plt.ylabel(\"Error rate\")\n",
    "plt.grid()\n",
    "\n",
    "plt.show()"
   ]
  },
  {
   "cell_type": "markdown",
   "metadata": {},
   "source": [
    "5-fold CV and LOO seem to underestimate the error rate by a lot. The shape seems to be somewhat similar, which is the most important part, as we are more interested in finding the value for k that minimizes the error. These methods are okay for finding the most optimal k, but it is better to look at test error when you need to consider the actual error in the model. \n",
    "\n",
    "However, in this case, it seems that the kNN model is not able to get a lower error rate than approximately 0.350. The data set itself contains 768 samples, with 268 positive outcomes and we have $268/768\\approx 0.349$. What probably happens is that kNN starts predicting only 0's (negative outcomes) when k is sufficiently large, and because approximately 35% of the data outcomes are 1's, the error rate becomes 35%. "
   ]
  },
  {
   "cell_type": "markdown",
   "metadata": {},
   "source": [
    "## Problem 2.2 \n",
    "\n",
    "Considering the bug with the GAM library in Python, I can't do a subset selection, but I will still fit the model. "
   ]
  },
  {
   "cell_type": "code",
   "execution_count": 56,
   "metadata": {},
   "outputs": [
    {
     "name": "stderr",
     "output_type": "stream",
     "text": [
      "100% (150 of 150) |######################| Elapsed Time: 0:00:17 Time:  0:00:17\n"
     ]
    }
   ],
   "source": [
    "gam_splines = pygam.s(0)\n",
    "\n",
    "# Splines for all the features\n",
    "for i in range(1, len(Xp_train.columns.values)):\n",
    "    gam_splines += pygam.s(i, spline_order=2, n_splines=3)\n",
    "\n",
    "# Range of penalties to search\n",
    "penalties = np.logspace(-5, 0, 150) \n",
    "with np.errstate(invalid=\"ignore\", divide=\"ignore\", over=\"ignore\"):\n",
    "    # Search for optimal penalty \n",
    "    gam_p = pygam.LogisticGAM(gam_splines).gridsearch(\n",
    "        Xp_train.values, yp_train, lam=penalties\n",
    "    )"
   ]
  },
  {
   "cell_type": "code",
   "execution_count": 45,
   "metadata": {},
   "outputs": [
    {
     "name": "stdout",
     "output_type": "stream",
     "text": [
      "Train error rate using GAM: 0.21875\n",
      "Test error rate using GAM: 0.2421875\n"
     ]
    }
   ],
   "source": [
    "print(f\"Train error rate using GAM: {1-gam_p.accuracy(Xp_train, yp_train)}\")\n",
    "print(f\"Test error rate using GAM: {1-gam_p.accuracy(Xp_test, yp_test)}\")"
   ]
  },
  {
   "cell_type": "markdown",
   "metadata": {},
   "source": [
    "GAM seems to perform better than kNN on the training test, but not by a lot. The test set error rate is noticably higher, indicating perhaps a slight overfit. Using subset selection would probably improve the model, but the p-value related bug in pyGAM would have left me with all the variables regardless as it is prone to  underestimating the values."
   ]
  },
  {
   "cell_type": "markdown",
   "metadata": {},
   "source": [
    "## Problem 2.3\n"
   ]
  },
  {
   "cell_type": "code",
   "execution_count": 46,
   "metadata": {},
   "outputs": [
    {
     "name": "stdout",
     "output_type": "stream",
     "text": [
      "Best tree depth: {'max_depth': 4}\n",
      "Tree train error rate: 0.185546875\n",
      "Tree test error rate: 0.296875\n"
     ]
    }
   ],
   "source": [
    "# Trees\n",
    "tree = skt.DecisionTreeClassifier()\n",
    "\n",
    "# Define the range of tree depth values to grid \n",
    "tree_depths = {\"max_depth\": np.arange(1, 20)}\n",
    "\n",
    "# Grid search. Uses 5-fold CV to find optimal tree depth\n",
    "tree_gridsearch = sklms.GridSearchCV(\n",
    "    tree, param_grid=tree_depths, cv=5, n_jobs=-1, iid=False\n",
    ").fit(Xp_train, yp_train)\n",
    "\n",
    "print(f\"Best tree depth: {tree_gridsearch.best_params_}\")\n",
    "print(f\"Tree train error rate: {1-tree_gridsearch.score(Xp_train, yp_train)}\")\n",
    "print(f\"Tree test error rate: {1-tree_gridsearch.score(Xp_test, yp_test)}\")"
   ]
  },
  {
   "cell_type": "code",
   "execution_count": 47,
   "metadata": {},
   "outputs": [
    {
     "name": "stdout",
     "output_type": "stream",
     "text": [
      "Best number of base estimators (bagging): {'n_estimators': 61}\n",
      "Bagging train error rate: 0.0\n",
      "Bagging test error rate: 0.25\n"
     ]
    }
   ],
   "source": [
    "# Bagging\n",
    "bagging = skle.BaggingClassifier()\n",
    "\n",
    "# Define the range of number of trees to grid\n",
    "n_trees = {\"n_estimators\": np.arange(1, 100)}\n",
    "\n",
    "# Grid search. Uses 5-fold CV to find optimal hyperparameter\n",
    "bagging_gridsearch = sklms.GridSearchCV(\n",
    "    bagging, param_grid=n_trees, cv=5, n_jobs=-1, iid=False\n",
    ").fit(Xp_train, yp_train)\n",
    "\n",
    "print(f\"Best number of base estimators (bagging): {bagging_gridsearch.best_params_}\")\n",
    "print(f\"Bagging train error rate: {1-bagging_gridsearch.score(Xp_train, yp_train)}\")\n",
    "print(f\"Bagging test error rate: {1-bagging_gridsearch.score(Xp_test, yp_test)}\")"
   ]
  },
  {
   "cell_type": "markdown",
   "metadata": {},
   "source": [
    "Note: This is only for probability. Scikit-learn does not have an implementation for consensus votes as it tends to perform worse than probability. "
   ]
  },
  {
   "cell_type": "code",
   "execution_count": 48,
   "metadata": {},
   "outputs": [
    {
     "name": "stdout",
     "output_type": "stream",
     "text": [
      "Best number of base estimators and max depth (random forest): {'n_estimators': 76, 'max_depth': 26}\n",
      "Random forest train error rate: 0.0\n",
      "Random forest test error rate: 0.25\n"
     ]
    }
   ],
   "source": [
    "# Random forest \n",
    "randomforest = skle.RandomForestClassifier()\n",
    "\n",
    "# Define range of number of estimators and max tree depths to search \n",
    "hyperparams_forest = {\"n_estimators\": np.arange(1, 100), \"max_depth\": np.arange(1,30)}\n",
    "\n",
    "# Randomized search. Uses 5-fold CV to find optimal hyperparameters\n",
    "randomforest_search = sklms.RandomizedSearchCV(\n",
    "    randomforest, param_distributions=hyperparams_forest, n_iter=200,cv=5, n_jobs=-1, iid=False\n",
    ").fit(Xp_train, yp_train)\n",
    "\n",
    "print(f\"Best number of base estimators and max depth (random forest): {randomforest_search.best_params_}\")\n",
    "print(f\"Random forest train error rate: {1 - randomforest_search.score(Xp_train, yp_train)}\")\n",
    "print(f\"Random forest test error rate: {1 - randomforest_search.score(Xp_test, yp_test)}\")"
   ]
  },
  {
   "cell_type": "code",
   "execution_count": 49,
   "metadata": {},
   "outputs": [
    {
     "name": "stdout",
     "output_type": "stream",
     "text": [
      "Best learning rate, shrinkage alpha and batch size (NN): {'learning_rate_init': 0.00015922827933410923, 'batch_size': 257, 'alpha': 0.008697490026177835}\n",
      "Neural network train error rate: 0.197265625\n",
      "Neural network test error rate: 0.25\n"
     ]
    },
    {
     "name": "stderr",
     "output_type": "stream",
     "text": [
      "/home/lise/.local/share/virtualenvs/STK-IN4300-assignment2-hpF4PA7F/lib/python3.6/site-packages/sklearn/neural_network/multilayer_perceptron.py:566: ConvergenceWarning: Stochastic Optimizer: Maximum iterations (200) reached and the optimization hasn't converged yet.\n",
      "  % self.max_iter, ConvergenceWarning)\n"
     ]
    }
   ],
   "source": [
    "# Neural network \n",
    "NN = sknn.MLPClassifier(hidden_layer_sizes=(100, 50))\n",
    "\n",
    "# Define range of learning rate, shrinkage and batch size to search\n",
    "hyperparams_nn = {\n",
    "    \"learning_rate_init\": np.logspace(-4,0, 100), \n",
    "    \"alpha\": np.logspace(-4, 0, 100), \n",
    "    \"batch_size\":  np.arange(10, 400)\n",
    "}\n",
    "\n",
    "# Randomized search. Uses 5-fold CV to find optimal hyperparameters\n",
    "NN_search = sklms.RandomizedSearchCV(\n",
    "    NN, param_distributions=hyperparams_nn, cv=5, n_iter=150, n_jobs=-1, iid=False\n",
    ").fit(Xp_train, yp_train)\n",
    "\n",
    "print(f\"Best learning rate, shrinkage alpha and batch size (NN): {NN_search.best_params_}\")\n",
    "print(f\"Neural network train error rate: {1 - NN_search.score(Xp_train, yp_train)}\")\n",
    "print(f\"Neural network test error rate: {1 - NN_search.score(Xp_test, yp_test)}\")"
   ]
  },
  {
   "cell_type": "code",
   "execution_count": 50,
   "metadata": {},
   "outputs": [
    {
     "name": "stdout",
     "output_type": "stream",
     "text": [
      "Best number of estimators and learning rate (AdaBoost): {'n_estimators': 190, 'learning_rate': 0.026560877829466867}\n",
      "AdaBoost train error rate: 0.21484375\n",
      "AdaBoost test error rate: 0.25\n"
     ]
    }
   ],
   "source": [
    "adaboost = skle.AdaBoostClassifier()\n",
    "\n",
    "# Define range of number of estimators and learning rate to search\n",
    "hyperparams_ada = {\"n_estimators\": np.arange(1, 300), \"learning_rate\": np.logspace(-4, 0, 100)}\n",
    "\n",
    "# Randomized search. Uses 5-fold CV to find optimal hyperparameters\n",
    "adaboost_search = sklms.RandomizedSearchCV(\n",
    "    adaboost, param_distributions=hyperparams_ada, cv=5, n_iter=150, n_jobs=-1, iid=False\n",
    ").fit(Xp_train, yp_train)\n",
    "\n",
    "print(f\"Best number of estimators and learning rate (AdaBoost): {adaboost_search.best_params_}\")\n",
    "print(f\"AdaBoost train error rate: {1 - adaboost_search.score(Xp_train, yp_train)}\")\n",
    "print(f\"AdaBoost test error rate: {1 - adaboost_search.score(Xp_test, yp_test)}\")"
   ]
  },
  {
   "cell_type": "markdown",
   "metadata": {},
   "source": [
    "## Problem 2.4\n",
    "\n",
    "I would probably use AdaBoost, as the tree methods (Decision trees, bagging, random forests) seem to easily overfit and the neural network requires more hyperparameter tuning. AdaBoost and Neural network seem to perform practically identically in this case, but AdaBoost actually requires one fewer hyperparameter to tune, which makes it a lot more practical to use. kNN was basically useless. "
   ]
  },
  {
   "cell_type": "markdown",
   "metadata": {},
   "source": [
    "## Problem 2.5\n",
    "\n"
   ]
  },
  {
   "cell_type": "code",
   "execution_count": 51,
   "metadata": {},
   "outputs": [],
   "source": [
    "%%R \n",
    "library(mlbench)\n",
    "data(PimaIndiansDiabetes2)"
   ]
  },
  {
   "cell_type": "code",
   "execution_count": 52,
   "metadata": {},
   "outputs": [],
   "source": [
    "df_pima2 = %R PimaIndiansDiabetes2\n",
    "\n",
    "# Dropping all NA values\n",
    "df_pima2.dropna(inplace=True)\n",
    "\n",
    "# Then basically same process as we did for the others\n",
    "X_pima2 = df_pima2.loc[:, df_pima2.columns!=\"diabetes\"]\n",
    "y_pima2 = df_pima2.loc[:, \"diabetes\"]\n",
    "\n",
    "y_pima2 = (y_pima2.values == \"pos\").astype(int)\n",
    "\n",
    "\n",
    "Xp2_train_, Xp2_test_, yp2_train, yp2_test = sklms.train_test_split(X_pima2, y_pima2, stratify=y_pima2, test_size=1/3)\n",
    "\n",
    "\n",
    "# Define the scaler\n",
    "scaler_p2 = sklpre.StandardScaler().fit(Xp2_train_)\n",
    "\n",
    "# Scale the data with respect to Xp2_train \n",
    "Xp2_train_scaled = scaler_p2.transform(Xp2_train_)\n",
    "Xp2_test_scaled = scaler_p2.transform(Xp2_test_)\n",
    "\n",
    "# Turn back into data frames\n",
    "Xp2_train = pd.DataFrame(Xp2_train_scaled, columns=X_pima2.columns)\n",
    "Xp2_test = pd.DataFrame(Xp2_test_scaled, columns=X_pima2.columns)"
   ]
  },
  {
   "cell_type": "markdown",
   "metadata": {},
   "source": [
    "Now to repeat all the methods:"
   ]
  },
  {
   "cell_type": "code",
   "execution_count": 58,
   "metadata": {},
   "outputs": [
    {
     "name": "stderr",
     "output_type": "stream",
     "text": [
      "100% (150 of 150) |######################| Elapsed Time: 0:00:16 Time:  0:00:16\n"
     ]
    },
    {
     "name": "stdout",
     "output_type": "stream",
     "text": [
      "Train error rate using GAM: 0.1954022988505747\n",
      "Test error rate using GAM: 0.22137404580152675\n",
      "\n",
      "Best k (kNN): {'n_neighbors': 9}\n",
      "kNN train error rate (kNN): 0.2030651340996169\n",
      "kNN test error rate (kNN): 0.26717557251908397\n",
      "\n",
      "Best tree depth: {'max_depth': 14}\n",
      "Tree train error rate: 0.0\n",
      "Tree test error rate: 0.29007633587786263\n",
      "\n",
      "Best number of base estimators (bagging): {'n_estimators': 62}\n",
      "Bagging train error rate: 0.0\n",
      "Bagging test error rate: 0.2137404580152672\n",
      "\n",
      "Best number of base estimators and max depth (random forest): {'n_estimators': 63, 'max_depth': 19}\n",
      "Random forest train error rate: 0.0\n",
      "Random forest test error rate: 0.19083969465648853\n",
      "\n"
     ]
    },
    {
     "name": "stderr",
     "output_type": "stream",
     "text": [
      "/home/lise/.local/share/virtualenvs/STK-IN4300-assignment2-hpF4PA7F/lib/python3.6/site-packages/sklearn/neural_network/multilayer_perceptron.py:350: UserWarning: Got `batch_size` less than 1 or larger than sample size. It is going to be clipped\n",
      "  warnings.warn(\"Got `batch_size` less than 1 or larger than \"\n",
      "/home/lise/.local/share/virtualenvs/STK-IN4300-assignment2-hpF4PA7F/lib/python3.6/site-packages/sklearn/neural_network/multilayer_perceptron.py:566: ConvergenceWarning: Stochastic Optimizer: Maximum iterations (200) reached and the optimization hasn't converged yet.\n",
      "  % self.max_iter, ConvergenceWarning)\n"
     ]
    },
    {
     "name": "stdout",
     "output_type": "stream",
     "text": [
      "Best learning rate, shrinkage alpha and batch size (NN): {'learning_rate_init': 0.0013530477745798076, 'batch_size': 386, 'alpha': 0.00025353644939701115}\n",
      "Neural network train error rate: 0.01532567049808431\n",
      "Neural network test error rate: 0.25190839694656486\n",
      "\n",
      "Best number of estimators and learning rate (AdaBoost): {'n_estimators': 211, 'learning_rate': 0.026560877829466867}\n",
      "AdaBoost train error rate: 0.16475095785440608\n",
      "AdaBoost test error rate: 0.2137404580152672\n",
      "\n"
     ]
    }
   ],
   "source": [
    "# GAM \n",
    "gam_splines2 = pygam.s(0)\n",
    "\n",
    "for i in range(1, len(Xp2_train.columns.values)):\n",
    "    gam_splines2 += pygam.s(i, spline_order=2, n_splines=3)\n",
    "\n",
    "with np.errstate(invalid=\"ignore\", divide=\"ignore\", over=\"ignore\"):\n",
    "    gam_p2 = pygam.LogisticGAM(gam_splines2).gridsearch(\n",
    "        Xp2_train.values, yp2_train, lam=penalties\n",
    "    )\n",
    "    \n",
    "print(f\"Train error rate using GAM: {1-gam_p2.accuracy(Xp2_train, yp2_train)}\")\n",
    "print(f\"Test error rate using GAM: {1-gam_p2.accuracy(Xp2_test, yp2_test)}\\n\")\n",
    "\n",
    "\n",
    "# kNN\n",
    "kNN2_gridsearch_5 = sklms.GridSearchCV(kNN_model, param_grid=k_grid, cv=5, iid=False).fit(Xp2_train, yp2_train)\n",
    "\n",
    "print(f\"Best k (kNN): {kNN2_gridsearch_5.best_params_}\")\n",
    "print(f\"kNN train error rate (kNN): {1-kNN2_gridsearch_5.score(Xp2_train, yp2_train)}\")\n",
    "print(f\"kNN test error rate (kNN): {1-kNN2_gridsearch_5.score(Xp2_test, yp2_test)}\\n\")\n",
    "\n",
    "\n",
    "# Trees\n",
    "tree_gridsearch2 = sklms.GridSearchCV(\n",
    "    tree, param_grid=tree_depths, cv=5, n_jobs=-1, iid=False\n",
    ").fit(Xp2_train, yp2_train)\n",
    "\n",
    "print(f\"Best tree depth: {tree_gridsearch2.best_params_}\")\n",
    "print(f\"Tree train error rate: {1-tree_gridsearch2.score(Xp2_train, yp2_train)}\")\n",
    "print(f\"Tree test error rate: {1-tree_gridsearch2.score(Xp2_test, yp2_test)}\\n\")\n",
    "\n",
    "\n",
    "# Bagging\n",
    "bagging_gridsearch2 = sklms.GridSearchCV(\n",
    "    bagging, param_grid=n_trees, cv=5, n_jobs=-1, iid=False\n",
    ").fit(Xp2_train, yp2_train)\n",
    "\n",
    "print(f\"Best number of base estimators (bagging): {bagging_gridsearch2.best_params_}\")\n",
    "print(f\"Bagging train error rate: {1-bagging_gridsearch2.score(Xp2_train, yp2_train)}\")\n",
    "print(f\"Bagging test error rate: {1-bagging_gridsearch2.score(Xp2_test, yp2_test)}\\n\")\n",
    "\n",
    "\n",
    "# Random forest \n",
    "randomforest_search2 = sklms.RandomizedSearchCV(\n",
    "    randomforest, param_distributions=hyperparams_forest, n_iter=200,cv=5, n_jobs=-1, iid=False\n",
    ").fit(Xp2_train, yp2_train)\n",
    "\n",
    "print(f\"Best number of base estimators and max depth (random forest): {randomforest_search2.best_params_}\")\n",
    "print(f\"Random forest train error rate: {1 - randomforest_search2.score(Xp2_train, yp2_train)}\")\n",
    "print(f\"Random forest test error rate: {1 - randomforest_search2.score(Xp2_test, yp2_test)}\\n\")\n",
    "\n",
    "\n",
    "# Neural network\n",
    "NN_search2 = sklms.RandomizedSearchCV(\n",
    "    NN, param_distributions=hyperparams_nn, cv=5, n_iter=150, n_jobs=-1, iid=False\n",
    ").fit(Xp2_train, yp2_train)\n",
    "\n",
    "print(f\"Best learning rate, shrinkage alpha and batch size (NN): {NN_search2.best_params_}\")\n",
    "print(f\"Neural network train error rate: {1 - NN_search2.score(Xp2_train, yp2_train)}\")\n",
    "print(f\"Neural network test error rate: {1 - NN_search2.score(Xp2_test, yp2_test)}\\n\")\n",
    "\n",
    "\n",
    "# Adaptive boosting\n",
    "adaboost_search2 = sklms.RandomizedSearchCV(\n",
    "    adaboost, param_distributions=hyperparams_ada, cv=5, n_iter=150, n_jobs=-1, iid=False\n",
    ").fit(Xp2_train, yp2_train)\n",
    "\n",
    "print(f\"Best number of estimators and learning rate (AdaBoost): {adaboost_search2.best_params_}\")\n",
    "print(f\"AdaBoost train error rate: {1 - adaboost_search2.score(Xp2_train, yp2_train)}\")\n",
    "print(f\"AdaBoost test error rate: {1 - adaboost_search2.score(Xp2_test, yp2_test)}\\n\")"
   ]
  },
  {
   "cell_type": "markdown",
   "metadata": {},
   "source": [
    "The tree methods (single tree, bagging, random forest) are all still overfitting by a lot, with training errors all reaching 0. Of the three, the single tree is the worst model and random forest is the best. \n",
    "\n",
    "GAM and kNN are not able to reach as low training errors as the tree methods, but they are at least not overfitting to the same extent as the tree methods. However, their test error rates are still higher than that of the random forest model. I would say GAM actually performs better than I expected with a test error rate of 0.22. The kNN and single tree perform the worst overall, with the single tree having the largest test error rate at 0.29. \n",
    "\n",
    "For the chosen hyperparameters, both the neural network and AdaBoost models seem to be overfitting the data, albeit the AdaBoost to a far lesser extent than the neural network. The neural network actually performs worse than bagging and random forests due to the way neural networks overfit the data. Overall, the random forest has the lowest test error rate, while AdaBoost and bagging seem to have the same test error rate, which is quite interesting. In this particular case I guess I would have chosen the random forest model. "
   ]
  }
 ],
 "metadata": {
  "kernelspec": {
   "display_name": "Python 3",
   "language": "python",
   "name": "python3"
  },
  "language_info": {
   "codemirror_mode": {
    "name": "ipython",
    "version": 3
   },
   "file_extension": ".py",
   "mimetype": "text/x-python",
   "name": "python",
   "nbconvert_exporter": "python",
   "pygments_lexer": "ipython3",
   "version": "3.6.9"
  }
 },
 "nbformat": 4,
 "nbformat_minor": 2
}
