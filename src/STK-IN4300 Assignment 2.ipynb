{
 "cells": [
  {
   "cell_type": "markdown",
   "metadata": {},
   "source": [
    "Anh-Nguyet Lise Nguyen\n",
    "\n",
    "# Problem 1"
   ]
  },
  {
   "cell_type": "markdown",
   "metadata": {},
   "source": [
    "## Problem 1.2"
   ]
  },
  {
   "cell_type": "code",
   "execution_count": 1,
   "metadata": {},
   "outputs": [],
   "source": [
    "import numpy as np\n",
    "import pandas as pd \n",
    "import sklearn.linear_model as skllm\n",
    "import scipy.stats \n",
    "import matplotlib.pyplot as plt"
   ]
  },
  {
   "cell_type": "code",
   "execution_count": 2,
   "metadata": {},
   "outputs": [],
   "source": [
    "df_train = pd.read_csv(\"data/ozone_train.csv\")\n",
    "X_train = df_train.loc[:, df_train.columns != \"FFVC\"]\n",
    "y_train = df_train.loc[:, \"FFVC\"]\n"
   ]
  },
  {
   "cell_type": "code",
   "execution_count": 3,
   "metadata": {},
   "outputs": [],
   "source": [
    "df_test = pd.read_csv(\"data/ozone_test.csv\")\n",
    "X_test = df_test.loc[:, df_test.columns != \"FFVC\"]\n",
    "y_test = df_test.loc[:, \"FFVC\"]\n"
   ]
  },
  {
   "cell_type": "code",
   "execution_count": 4,
   "metadata": {},
   "outputs": [],
   "source": [
    "# Problem 1.2\n",
    "\n",
    "def summary_OLS(X, y, feature_names):\n",
    "    array_1D = None\n",
    "    \n",
    "    if len(np.shape(X)) == 1:\n",
    "        array_1D = True\n",
    "        X = X.reshape(-1,1)\n",
    "        \n",
    "    OLS = skllm.LinearRegression(fit_intercept=False).fit(X, y)\n",
    "    y_pred = OLS.predict(X) \n",
    "    coefficients = np.append(OLS.intercept_, OLS.coef_)\n",
    "    \n",
    "    \n",
    "    newX = np.append(np.ones((len(X),1)), X, axis=1)\n",
    "    MSE = (sum((y - y_pred)**2))/(len(newX)-len(newX[0]))\n",
    "\n",
    "    var = MSE*(np.linalg.pinv(np.dot(newX.T,newX)).diagonal())\n",
    "    std = np.sqrt(var)\n",
    "    ts_b = coefficients/ std\n",
    "\n",
    "    p = np.zeros(len(ts_b))\n",
    "    for index, i in enumerate(ts_b):\n",
    "        p[index] = 2*(1-scipy.stats.t.cdf(np.abs(i),(len(newX)-1))) \n",
    "        \n",
    "    if array_1D:\n",
    "        summary = pd.DataFrame(zip(coefficients, std, p), columns=[\"Feature\", \"Standard deviance\", \"p-values\"]\n",
    "                              , index=([\"intercept\"] + [feature_names]))\n",
    "        \n",
    "    else:\n",
    "        summary = pd.DataFrame(zip(coefficients, std, p), columns=[\"Coefficients\", \"Standard deviance\", \"p-values\"],\n",
    "                          index=([\"intercept\"] + list(feature_names)))\n",
    "                           \n",
    "    return summary\n",
    "        \n"
   ]
  },
  {
   "cell_type": "code",
   "execution_count": 5,
   "metadata": {},
   "outputs": [
    {
     "data": {
      "text/html": [
       "<div>\n",
       "<style scoped>\n",
       "    .dataframe tbody tr th:only-of-type {\n",
       "        vertical-align: middle;\n",
       "    }\n",
       "\n",
       "    .dataframe tbody tr th {\n",
       "        vertical-align: top;\n",
       "    }\n",
       "\n",
       "    .dataframe thead th {\n",
       "        text-align: right;\n",
       "    }\n",
       "</style>\n",
       "<table border=\"1\" class=\"dataframe\">\n",
       "  <thead>\n",
       "    <tr style=\"text-align: right;\">\n",
       "      <th></th>\n",
       "      <th>Coefficients</th>\n",
       "      <th>Standard deviance</th>\n",
       "      <th>p-values</th>\n",
       "    </tr>\n",
       "  </thead>\n",
       "  <tbody>\n",
       "    <tr>\n",
       "      <th>intercept</th>\n",
       "      <td>0.000000</td>\n",
       "      <td>0.067556</td>\n",
       "      <td>1.000000e+00</td>\n",
       "    </tr>\n",
       "    <tr>\n",
       "      <th>ADHEU</th>\n",
       "      <td>-0.075544</td>\n",
       "      <td>0.207669</td>\n",
       "      <td>7.163388e-01</td>\n",
       "    </tr>\n",
       "    <tr>\n",
       "      <th>HOCHOZON</th>\n",
       "      <td>-0.177523</td>\n",
       "      <td>0.114152</td>\n",
       "      <td>1.211935e-01</td>\n",
       "    </tr>\n",
       "    <tr>\n",
       "      <th>AMATOP</th>\n",
       "      <td>-0.035130</td>\n",
       "      <td>0.102232</td>\n",
       "      <td>7.314208e-01</td>\n",
       "    </tr>\n",
       "    <tr>\n",
       "      <th>AVATOP</th>\n",
       "      <td>-0.072781</td>\n",
       "      <td>0.108710</td>\n",
       "      <td>5.038038e-01</td>\n",
       "    </tr>\n",
       "    <tr>\n",
       "      <th>ADEKZ</th>\n",
       "      <td>0.023488</td>\n",
       "      <td>0.102991</td>\n",
       "      <td>8.197875e-01</td>\n",
       "    </tr>\n",
       "    <tr>\n",
       "      <th>ARAUCH</th>\n",
       "      <td>-0.051278</td>\n",
       "      <td>0.095157</td>\n",
       "      <td>5.904580e-01</td>\n",
       "    </tr>\n",
       "    <tr>\n",
       "      <th>FSNIGHT</th>\n",
       "      <td>0.006259</td>\n",
       "      <td>0.159481</td>\n",
       "      <td>9.687241e-01</td>\n",
       "    </tr>\n",
       "    <tr>\n",
       "      <th>FMILB</th>\n",
       "      <td>-0.180463</td>\n",
       "      <td>0.167958</td>\n",
       "      <td>2.836679e-01</td>\n",
       "    </tr>\n",
       "    <tr>\n",
       "      <th>FTIER</th>\n",
       "      <td>-0.161323</td>\n",
       "      <td>0.166531</td>\n",
       "      <td>3.336307e-01</td>\n",
       "    </tr>\n",
       "    <tr>\n",
       "      <th>FPOLL</th>\n",
       "      <td>-0.033558</td>\n",
       "      <td>0.194810</td>\n",
       "      <td>8.633719e-01</td>\n",
       "    </tr>\n",
       "    <tr>\n",
       "      <th>FSPT</th>\n",
       "      <td>-0.056442</td>\n",
       "      <td>0.216120</td>\n",
       "      <td>7.941850e-01</td>\n",
       "    </tr>\n",
       "    <tr>\n",
       "      <th>FSATEM</th>\n",
       "      <td>0.341547</td>\n",
       "      <td>0.230608</td>\n",
       "      <td>1.398626e-01</td>\n",
       "    </tr>\n",
       "    <tr>\n",
       "      <th>FSAUGE</th>\n",
       "      <td>0.141271</td>\n",
       "      <td>0.153068</td>\n",
       "      <td>3.569424e-01</td>\n",
       "    </tr>\n",
       "    <tr>\n",
       "      <th>FSPFEI</th>\n",
       "      <td>0.469356</td>\n",
       "      <td>0.277670</td>\n",
       "      <td>9.222506e-02</td>\n",
       "    </tr>\n",
       "    <tr>\n",
       "      <th>FSHLAUF</th>\n",
       "      <td>0.018298</td>\n",
       "      <td>0.231374</td>\n",
       "      <td>9.370288e-01</td>\n",
       "    </tr>\n",
       "    <tr>\n",
       "      <th>MALE</th>\n",
       "      <td>0.422873</td>\n",
       "      <td>0.056961</td>\n",
       "      <td>1.836753e-12</td>\n",
       "    </tr>\n",
       "    <tr>\n",
       "      <th>FEMALE</th>\n",
       "      <td>-0.093854</td>\n",
       "      <td>0.051717</td>\n",
       "      <td>7.077405e-02</td>\n",
       "    </tr>\n",
       "    <tr>\n",
       "      <th>ALTER</th>\n",
       "      <td>0.038624</td>\n",
       "      <td>0.048646</td>\n",
       "      <td>4.279687e-01</td>\n",
       "    </tr>\n",
       "    <tr>\n",
       "      <th>AGEBGEW</th>\n",
       "      <td>-0.005497</td>\n",
       "      <td>0.043862</td>\n",
       "      <td>9.003701e-01</td>\n",
       "    </tr>\n",
       "    <tr>\n",
       "      <th>FLGROSS</th>\n",
       "      <td>0.520210</td>\n",
       "      <td>0.064030</td>\n",
       "      <td>2.153833e-14</td>\n",
       "    </tr>\n",
       "    <tr>\n",
       "      <th>FNOH24</th>\n",
       "      <td>-0.135043</td>\n",
       "      <td>0.055402</td>\n",
       "      <td>1.549441e-02</td>\n",
       "    </tr>\n",
       "    <tr>\n",
       "      <th>FLTOTMED</th>\n",
       "      <td>-0.065633</td>\n",
       "      <td>0.045042</td>\n",
       "      <td>1.463439e-01</td>\n",
       "    </tr>\n",
       "    <tr>\n",
       "      <th>FO3H24</th>\n",
       "      <td>0.122975</td>\n",
       "      <td>0.092125</td>\n",
       "      <td>1.831508e-01</td>\n",
       "    </tr>\n",
       "    <tr>\n",
       "      <th>FTEH24</th>\n",
       "      <td>-0.114334</td>\n",
       "      <td>0.086536</td>\n",
       "      <td>1.876461e-01</td>\n",
       "    </tr>\n",
       "    <tr>\n",
       "      <th>FLGEW</th>\n",
       "      <td>0.220434</td>\n",
       "      <td>0.061282</td>\n",
       "      <td>3.886617e-04</td>\n",
       "    </tr>\n",
       "  </tbody>\n",
       "</table>\n",
       "</div>"
      ],
      "text/plain": [
       "           Coefficients  Standard deviance      p-values\n",
       "intercept      0.000000           0.067556  1.000000e+00\n",
       "ADHEU         -0.075544           0.207669  7.163388e-01\n",
       "HOCHOZON      -0.177523           0.114152  1.211935e-01\n",
       "AMATOP        -0.035130           0.102232  7.314208e-01\n",
       "AVATOP        -0.072781           0.108710  5.038038e-01\n",
       "ADEKZ          0.023488           0.102991  8.197875e-01\n",
       "ARAUCH        -0.051278           0.095157  5.904580e-01\n",
       "FSNIGHT        0.006259           0.159481  9.687241e-01\n",
       "FMILB         -0.180463           0.167958  2.836679e-01\n",
       "FTIER         -0.161323           0.166531  3.336307e-01\n",
       "FPOLL         -0.033558           0.194810  8.633719e-01\n",
       "FSPT          -0.056442           0.216120  7.941850e-01\n",
       "FSATEM         0.341547           0.230608  1.398626e-01\n",
       "FSAUGE         0.141271           0.153068  3.569424e-01\n",
       "FSPFEI         0.469356           0.277670  9.222506e-02\n",
       "FSHLAUF        0.018298           0.231374  9.370288e-01\n",
       "MALE           0.422873           0.056961  1.836753e-12\n",
       "FEMALE        -0.093854           0.051717  7.077405e-02\n",
       "ALTER          0.038624           0.048646  4.279687e-01\n",
       "AGEBGEW       -0.005497           0.043862  9.003701e-01\n",
       "FLGROSS        0.520210           0.064030  2.153833e-14\n",
       "FNOH24        -0.135043           0.055402  1.549441e-02\n",
       "FLTOTMED      -0.065633           0.045042  1.463439e-01\n",
       "FO3H24         0.122975           0.092125  1.831508e-01\n",
       "FTEH24        -0.114334           0.086536  1.876461e-01\n",
       "FLGEW          0.220434           0.061282  3.886617e-04"
      ]
     },
     "execution_count": 5,
     "metadata": {},
     "output_type": "execute_result"
    }
   ],
   "source": [
    "summary_train = summary_OLS(X_train, y_train, X_train.columns.values)\n",
    "\n",
    "summary_test = summary_OLS(X_test, y_test, X_test.columns.values)\n",
    "\n",
    "summary_train"
   ]
  },
  {
   "cell_type": "markdown",
   "metadata": {},
   "source": [
    "## Problem 1.3 \n",
    "\n",
    "I'm choosing to use criterias for p-value in backward elimination and forward selection."
   ]
  },
  {
   "cell_type": "markdown",
   "metadata": {},
   "source": [
    "### Backward elimination"
   ]
  },
  {
   "cell_type": "code",
   "execution_count": 6,
   "metadata": {},
   "outputs": [],
   "source": [
    "# Problem 1.3\n",
    "\n",
    "def backward_elimination(X, y, alpha):\n",
    "    # Make copies of X and y\n",
    "    X_copy = X.copy()\n",
    "    y_copy = y.copy()\n",
    "    \n",
    "    feature_names = X_copy.columns.values\n",
    "    # Calculating coefficients, standard deviations and p-values as summary\n",
    "    # of initial X and y \n",
    "    summary = summary_OLS(X_copy, y_copy, feature_names)\n",
    "    p_values = summary.loc[:, \"p-values\"]\n",
    "\n",
    "    # Find maximum p-value\n",
    "    p_max = np.max(p_values)\n",
    "    \n",
    "    # Iterate until p <= alpha\n",
    "    while p_max > alpha:\n",
    "        # Calculating coefficients, standard deviations and p-values using summary_OLS function\n",
    "        feature_names = X_copy.columns.values\n",
    "        summary = summary_OLS(X_copy, y_copy, feature_names)\n",
    "        summary.drop(\"intercept\", axis=0, inplace=True)\n",
    "        p_values = summary.loc[:, \"p-values\"]\n",
    "        \n",
    "        # Locating index with maximum p-value and \n",
    "        # dropping corresponding feature\n",
    "        p_max_index = p_values.idxmax(axis=1)\n",
    "        X_copy.drop(p_max_index, axis=1, inplace=True)\n",
    "        \n",
    "        # Update maximum p-value\n",
    "        p_max = p_values.loc[p_max_index]        \n",
    "    feature_names = X_copy.columns.values\n",
    "    \n",
    "    return X_copy, summary_OLS(X_copy, y_copy, feature_names)\n",
    "\n"
   ]
  },
  {
   "cell_type": "code",
   "execution_count": 75,
   "metadata": {},
   "outputs": [
    {
     "name": "stdout",
     "output_type": "stream",
     "text": [
      "Backward elimination using threshold 0.1 \n",
      "\n",
      "            Coefficients  Standard deviance      p-values\n",
      "intercept      0.000000           0.028405  1.000000e+00\n",
      "FTIER         -0.314379           0.140045  2.566413e-02\n",
      "FSPFEI         0.532646           0.197145  7.374622e-03\n",
      "MALE           0.259259           0.043282  7.370458e-09\n",
      "FEMALE        -0.244138           0.042503  2.707817e-08\n",
      "FLGROSS        0.569397           0.056343  0.000000e+00\n",
      "FLGEW          0.191533           0.055953  7.245137e-04\n"
     ]
    }
   ],
   "source": [
    "X_backelim_1, summary_backelim_1 = backward_elimination(X_train, y_train, 1e-1)\n",
    "print(\"Backward elimination using threshold 0.1 \\n\\n\", summary_backelim_1)"
   ]
  },
  {
   "cell_type": "code",
   "execution_count": 79,
   "metadata": {},
   "outputs": [
    {
     "name": "stdout",
     "output_type": "stream",
     "text": [
      "Backward elimination using threshold 0.001 \n",
      "\n",
      "            Coefficients  Standard deviance      p-values\n",
      "intercept      0.000000           0.027781  1.000000e+00\n",
      "MALE           0.247276           0.044284  6.184383e-08\n",
      "FEMALE        -0.243319           0.044069  8.505661e-08\n",
      "FLGROSS        0.691443           0.041935  0.000000e+00\n"
     ]
    }
   ],
   "source": [
    "X_backelim_2, summary_backelim_2 = backward_elimination(X_train, y_train, 1e-3)\n",
    "summary_backelim_2\n",
    "\n",
    "print(\"Backward elimination using threshold 0.001 \\n\\n\", summary_backelim_2)"
   ]
  },
  {
   "cell_type": "markdown",
   "metadata": {},
   "source": [
    "### Forward selection"
   ]
  },
  {
   "cell_type": "code",
   "execution_count": 9,
   "metadata": {},
   "outputs": [],
   "source": [
    "def forward_selection(X, y, alpha):\n",
    "    X_copy = X.copy()\n",
    "    y_copy = y.copy()\n",
    "    p_max = alpha - 1\n",
    "    p_min = 0\n",
    "    feature_include = []\n",
    "    feature_names = np.array(list(X_copy.columns.values))\n",
    "    while p_max < alpha and len(feature_names)>0:\n",
    "\n",
    "        n_features = len(feature_names)\n",
    "        p_values = np.zeros(n_features)\n",
    "        \n",
    "        for i, feature in enumerate(feature_names):\n",
    "                    \n",
    "            features = np.append(feature_include, feature_names[i])\n",
    "\n",
    "            X_feature = X_copy.loc[:, features].values\n",
    "            summary = summary_OLS(X_feature, y_copy, features)\n",
    "\n",
    "            summary.drop(([\"intercept\"] + feature_include ), axis=0, inplace=True)\n",
    "            \n",
    "            \n",
    "            p_one = summary.loc[:, \"p-values\"].values\n",
    "            p_values[i] = p_one\n",
    "        \n",
    "        p_min_index = np.argmin(p_values)\n",
    "        p_min = p_values[p_min_index]\n",
    "\n",
    "        feature_min_p = feature_names[p_min_index]\n",
    "        feature_include.append(feature_min_p)\n",
    "        feature_names = feature_names[feature_names != feature_min_p]\n",
    "\n",
    "        \n",
    "        X_feature = X_copy.loc[:, features].values\n",
    "\n",
    "        summary_ = summary_OLS(X_feature, y_copy, feature_include)\n",
    "        \n",
    "        p_max = summary.loc[:, \"p-values\"].values.max()\n",
    "\n",
    "        X_final = X_copy.loc[:, feature_include]\n",
    "        \n",
    "    return X_final, summary_OLS(X_final, y_copy, feature_include)\n"
   ]
  },
  {
   "cell_type": "code",
   "execution_count": 69,
   "metadata": {},
   "outputs": [
    {
     "name": "stdout",
     "output_type": "stream",
     "text": [
      "Forward selection using threshold 0.1\n",
      " \n",
      "            Coefficients  Standard deviance  p-values\n",
      "intercept      0.000000           0.059760  1.000000\n",
      "FLGROSS        0.574629           0.059205  0.000000\n",
      "FLGEW          0.187214           0.058849  0.001654\n",
      "MALE           0.255861           0.085246  0.002962\n"
     ]
    }
   ],
   "source": [
    "X_forsec_1, summary_forsec_1 = forward_selection(X_train, y_train, 1e-1)\n",
    "print(\"Forward selection using threshold 0.1\\n \\n\",summary_forsec_1)"
   ]
  },
  {
   "cell_type": "code",
   "execution_count": 80,
   "metadata": {},
   "outputs": [
    {
     "name": "stdout",
     "output_type": "stream",
     "text": [
      "Forward selection using threshold 0.001\n",
      " \n",
      "            Coefficients  Standard deviance  p-values\n",
      "intercept      0.000000           0.043678  1.000000\n",
      "FLGROSS        0.598139           0.060691  0.000000\n",
      "FLGEW          0.174029           0.060691  0.004495\n"
     ]
    }
   ],
   "source": [
    "X_forsec_2, summary_forsec_2 = forward_selection(X_train, y_train, 1e-3)\n",
    "print(f\"Forward selection using threshold 0.001\\n \\n\",summary_forsec_2)"
   ]
  },
  {
   "cell_type": "markdown",
   "metadata": {},
   "source": [
    "It is interesting to note that using the same criteria $\\alpha$ for p-value in both backward elimination and forward selection, for $\\alpha=0.1$ the number of variables in the model is higher for backward elimination (6) than forward selection (3). For $\\alpha=0.001$ the backward selection model contains three variables, while the forward selection contains two variables. The variable FLGROSS is included in every model and seems to be the most significant. Looking at the low p-values of the remaining variables of the new models, I think it is likely that these models will perform better than the full models, as eliminating the other variables with higher p-values is like eliminating noise. "
   ]
  },
  {
   "cell_type": "markdown",
   "metadata": {},
   "source": [
    "## Problem 1.4\n"
   ]
  },
  {
   "cell_type": "code",
   "execution_count": 40,
   "metadata": {},
   "outputs": [],
   "source": [
    "def bootstrap(y, n_iter=1000):\n",
    "    N = len(y)\n",
    "    N_train = int(0.8*N)\n",
    "    N_test = int(0.2*N)\n",
    "    \n",
    "    all_indices = np.arange(N)\n",
    "    \n",
    "    indices_bootstrapped = []\n",
    "    for i in range(n_iter):\n",
    "        indices_train = np.random.choice(all_indices, size=N_train, replace=True)\n",
    "        indices_test = np.random.choice(all_indices, size=N_test, replace=True)\n",
    "        \n",
    "        indices_bootstrapped.append([indices_train, indices_test])\n",
    "        \n",
    "    return indices_bootstrapped\n",
    "    \n",
    "    "
   ]
  },
  {
   "cell_type": "code",
   "execution_count": 87,
   "metadata": {},
   "outputs": [],
   "source": [
    "shrinkage_param = np.logspace(-3, -1, 1000)\n",
    "\n",
    "# Lasso with 5-fold cross validation \n",
    "reg_lasso_cv = skllm.LassoCV(alphas=shrinkage_param, cv=5, n_jobs=-1, fit_intercept=False).fit(X_train, y_train)\n",
    "# calculate mean square error for the test on each fold, \n",
    "# then take the mean over all folds axis=1\n",
    "MSE_lasso_cv = np.mean(reg_lasso_cv.mse_path_, axis=1)\n"
   ]
  },
  {
   "cell_type": "code",
   "execution_count": 88,
   "metadata": {},
   "outputs": [],
   "source": [
    "a = bootstrap(y_train, n_iter=100)\n",
    "reg_lasso_bootstrap = skllm.LassoCV(alphas=shrinkage_param, cv=a, n_jobs=-1, fit_intercept=False).fit(X_train, y_train)\n",
    "MSE_lasso_bootstrap = np.mean(reg_lasso_bootstrap.mse_path_, axis=1)"
   ]
  },
  {
   "cell_type": "code",
   "execution_count": 89,
   "metadata": {},
   "outputs": [
    {
     "data": {
      "image/png": "[encoded data removed]",
      "text/plain": [
       "<Figure size 720x360 with 1 Axes>"
      ]
     },
     "metadata": {
      "needs_background": "light"
     },
     "output_type": "display_data"
    }
   ],
   "source": [
    "figure_lasso = plt.figure(figsize=(10,5))\n",
    "plt.semilogx(shrinkage_param, MSE_lasso_cv[::-1], label=\"5-fold CV\")\n",
    "plt.semilogx(shrinkage_param, MSE_lasso_bootstrap[::-1], label=\"Bootstrap\")\n",
    "plt.xlabel(r\"Hyperparameter $\\lambda$\")\n",
    "plt.ylabel(\"EPE\")\n",
    "plt.legend()\n",
    "plt.grid()\n",
    "plt.show()\n",
    "\n"
   ]
  },
  {
   "cell_type": "code",
   "execution_count": 90,
   "metadata": {},
   "outputs": [
    {
     "name": "stdout",
     "output_type": "stream",
     "text": [
      "The best shrinkage parameter for Lasso using CV is 2.84e-02 with R2 score of 0.65\n",
      "The best shrinkage parameter for Lasso using bootstrap is 6.77e-03 with R2 score of 0.67\n"
     ]
    }
   ],
   "source": [
    "print(f\"The best shrinkage parameter for Lasso using CV is {reg_lasso_cv.alpha_:.2e} \"+ \n",
    "      f\"with R2 score of {reg_lasso_cv.score(X_test,y_test):.2f}\")\n",
    "\n",
    "\n",
    "print(f\"The best shrinkage parameter for Lasso using bootstrap is {reg_lasso_bootstrap.alpha_:.2e} \"+ \n",
    "      f\"with R2 score of {reg_lasso_bootstrap.score(X_test,y_test):.2f}\")"
   ]
  },
  {
   "cell_type": "markdown",
   "metadata": {},
   "source": [
    "From the plot, the EPE found using bootstrap is noticably lower than the EPE found using 5-fold cross validation. This is due to the severe underestimation of the EPE by the bootstrapping method, as the training and test sets are not independent. This can be improved by using e.g. 0.632 bootstrap."
   ]
  },
  {
   "cell_type": "markdown",
   "metadata": {},
   "source": [
    "## Problem 1.5"
   ]
  }
 ],
 "metadata": {
  "kernelspec": {
   "display_name": "my-virtualenv-name",
   "language": "python",
   "name": "my-virtualenv-name"
  },
  "language_info": {
   "codemirror_mode": {
    "name": "ipython",
    "version": 3
   },
   "file_extension": ".py",
   "mimetype": "text/x-python",
   "name": "python",
   "nbconvert_exporter": "python",
   "pygments_lexer": "ipython3",
   "version": "3.6.9"
  }
 },
 "nbformat": 4,
 "nbformat_minor": 2
}
