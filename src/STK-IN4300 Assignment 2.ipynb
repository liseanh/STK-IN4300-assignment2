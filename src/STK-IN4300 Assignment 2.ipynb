{
 "cells": [
  {
   "cell_type": "markdown",
   "metadata": {},
   "source": [
    "Anh-Nguyet Lise Nguyen\n",
    "\n",
    "# Problem 1"
   ]
  },
  {
   "cell_type": "markdown",
   "metadata": {},
   "source": [
    "## Problem 1.1"
   ]
  },
  {
   "cell_type": "code",
   "execution_count": 17,
   "metadata": {},
   "outputs": [],
   "source": [
    "import numpy as np\n",
    "import scipy.stats \n",
    "import pandas as pd \n",
    "import matplotlib.pyplot as plt\n",
    "import sklearn.metrics as sklm\n",
    "import sklearn.linear_model as skllm\n",
    "import sklearn.model_selection as sklms\n",
    "import sklearn.preprocessing as sklpre\n",
    "import pygam "
   ]
  },
  {
   "cell_type": "code",
   "execution_count": 18,
   "metadata": {},
   "outputs": [
    {
     "name": "stdout",
     "output_type": "stream",
     "text": [
      "The rpy2.ipython extension is already loaded. To reload it, use:\n",
      "  %reload_ext rpy2.ipython\n"
     ]
    }
   ],
   "source": [
    "%load_ext rpy2.ipython"
   ]
  },
  {
   "cell_type": "code",
   "execution_count": 19,
   "metadata": {},
   "outputs": [],
   "source": [
    "# Import the .csv file for the ozone data into a data frame\n",
    "df = pd.read_csv(\"data/ozone_496obs_25vars.txt\", header=0, sep=\" \")"
   ]
  },
  {
   "cell_type": "code",
   "execution_count": 20,
   "metadata": {},
   "outputs": [],
   "source": [
    "# Extract variables except SEX\n",
    "variables = df.loc[:,  (df.columns != \"SEX\")]\n",
    "\n",
    "# Onehotting the SEX categorical variable \n",
    "onehot_sex = pd.get_dummies(df.loc[:,\"SEX\"]).set_axis(\n",
    "    [\"MALE\", \"FEMALE\"], axis=1, inplace=False\n",
    ")\n",
    "# Inserting MALE and FEMALE into variable data frame\n",
    "variables = variables.join(onehot_sex)\n"
   ]
  },
  {
   "cell_type": "code",
   "execution_count": 21,
   "metadata": {},
   "outputs": [],
   "source": [
    "# Split into training and test set\n",
    "variables_train_, variables_test_ = sklms.train_test_split(\n",
    "    variables, test_size=0.5, stratify=variables[\"FSATEM\"]\n",
    ")"
   ]
  },
  {
   "cell_type": "code",
   "execution_count": 22,
   "metadata": {},
   "outputs": [],
   "source": [
    "# Which columns to scale:\n",
    "col_continuous = np.array([\"ALTER\", \"AGEBGEW\", \"FLGROSS\", \"FNOH24\", \"FLTOTMED\", \"FO3H24\", \"FTEH24\", \"FLGEW\",  \"FFVC\"])\n",
    "\n",
    "# Defining the scaler (subtracts mean, divides by standard deviation):\n",
    "scaler = sklpre.StandardScaler().fit(variables_train_[col_continuous].values)\n",
    "\n",
    "# Standardizing the data using the scaler defined above in the continuous variables\n",
    "scaled_cols_train = scaler.transform(variables_train_[col_continuous])\n",
    "scaled_cols_test = scaler.transform(variables_test_[col_continuous])\n"
   ]
  },
  {
   "cell_type": "code",
   "execution_count": 23,
   "metadata": {},
   "outputs": [],
   "source": [
    "# List of all variable names\n",
    "feature_names = np.array(variables.columns.values, dtype=str)\n",
    "\n",
    "# List of categorical variables\n",
    "col_categorical = []\n",
    "for item in feature_names:\n",
    "    if item not in col_continuous:\n",
    "        col_categorical.append(item)\n",
    "\n",
    "# Data frame of the categorical variables \n",
    "variables_categorical_train = variables_train_.loc[:, col_categorical]\n",
    "variables_categorical_test = variables_test_.loc[:, col_categorical]\n",
    "\n",
    "# Data frame of the continuous variables\n",
    "variables_continuous_train = pd.DataFrame(scaled_cols_train, columns=col_continuous)\n",
    "variables_continuous_test = pd.DataFrame(scaled_cols_test, columns=col_continuous)"
   ]
  },
  {
   "cell_type": "code",
   "execution_count": 24,
   "metadata": {},
   "outputs": [],
   "source": [
    "# Merging the categorical and continuous variables: \n",
    "\n",
    "variables_final_train = variables_categorical_train.join(variables_continuous_train) \n",
    "variables_final_test = variables_categorical_test.join(variables_continuous_test)\n",
    "\n",
    "variables_train_array = np.concatenate([variables_categorical_train, variables_continuous_train], axis=1)\n",
    "variables_final_train = pd.DataFrame(variables_train_array, columns=(list(col_categorical)+list(col_continuous)))\n",
    "\n",
    "variables_test_array = np.concatenate([variables_categorical_test, variables_continuous_test], axis=1)\n",
    "variables_final_test = pd.DataFrame(variables_test_array, columns=(list(col_categorical)+list(col_continuous)))\n",
    "\n",
    "    "
   ]
  },
  {
   "cell_type": "code",
   "execution_count": 25,
   "metadata": {},
   "outputs": [],
   "source": [
    "# Exporting the final preprocessed data frames as .csv \n",
    "variables_final_train.to_csv(\"data/ozone_train.csv\", index=False)\n",
    "variables_final_test.to_csv(\"data/ozone_test.csv\", index=False)"
   ]
  },
  {
   "cell_type": "markdown",
   "metadata": {},
   "source": [
    "The categorical variables were not scaled and only SEX was encoded into FEMALE and MALE. This was not necessary for the other categorical variables as they were boolean. "
   ]
  },
  {
   "cell_type": "markdown",
   "metadata": {},
   "source": [
    "## Problem 1.2"
   ]
  },
  {
   "cell_type": "code",
   "execution_count": 26,
   "metadata": {},
   "outputs": [],
   "source": [
    "# Import the .csv for the training set made in Problem 1.1\n",
    "df_train = pd.read_csv(\"data/ozone_train.csv\")\n",
    "\n",
    "# Extract explanatory features X and outcome y\n",
    "X_train = df_train.loc[:, df_train.columns != \"FFVC\"]\n",
    "y_train = df_train.loc[:, \"FFVC\"]\n"
   ]
  },
  {
   "cell_type": "code",
   "execution_count": 27,
   "metadata": {},
   "outputs": [],
   "source": [
    "# Import the .csv for the test set made in Problem 1.1\n",
    "df_test = pd.read_csv(\"data/ozone_test.csv\")\n",
    "\n",
    "# Extract explanatory features X and outcome y\n",
    "X_test = df_test.loc[:, df_test.columns != \"FFVC\"]\n",
    "y_test = df_test.loc[:, \"FFVC\"]\n"
   ]
  },
  {
   "cell_type": "code",
   "execution_count": 28,
   "metadata": {},
   "outputs": [],
   "source": [
    "# Problem 1.2\n",
    "\n",
    "def summary_OLS(X, y, feature_names):\n",
    "    array_1D = None\n",
    "    \n",
    "    if len(np.shape(X)) == 1:\n",
    "        array_1D = True\n",
    "        X = X.reshape(-1,1)\n",
    "        \n",
    "    OLS = skllm.LinearRegression(fit_intercept=False).fit(X, y)\n",
    "    y_pred = OLS.predict(X) \n",
    "    coefficients = np.append(OLS.intercept_, OLS.coef_)\n",
    "    \n",
    "    \n",
    "    newX = np.append(np.ones((len(X),1)), X, axis=1)\n",
    "    MSE = (sum((y - y_pred)**2))/(len(newX)-len(newX[0]))\n",
    "\n",
    "    var = MSE*(np.linalg.pinv(np.dot(newX.T,newX)).diagonal())\n",
    "    std = np.sqrt(var)\n",
    "    ts_b = coefficients/ std\n",
    "\n",
    "    p = np.zeros(len(ts_b))\n",
    "    for index, i in enumerate(ts_b):\n",
    "        p[index] = 2*(1-scipy.stats.t.cdf(np.abs(i),(len(newX)-1))) \n",
    "        \n",
    "    if array_1D:\n",
    "        summary = pd.DataFrame(zip(coefficients, std, p), columns=[\"Feature\", \"Standard deviance\", \"p-values\"]\n",
    "                              , index=([\"intercept\"] + [feature_names]))\n",
    "        \n",
    "    else:\n",
    "        summary = pd.DataFrame(zip(coefficients, std, p), columns=[\"Coefficients\", \"Standard deviance\", \"p-values\"],\n",
    "                          index=([\"intercept\"] + list(feature_names)))\n",
    "                           \n",
    "    return summary\n",
    "        \n"
   ]
  },
  {
   "cell_type": "code",
   "execution_count": 29,
   "metadata": {},
   "outputs": [
    {
     "data": {
      "text/html": [
       "<div>\n",
       "<style scoped>\n",
       "    .dataframe tbody tr th:only-of-type {\n",
       "        vertical-align: middle;\n",
       "    }\n",
       "\n",
       "    .dataframe tbody tr th {\n",
       "        vertical-align: top;\n",
       "    }\n",
       "\n",
       "    .dataframe thead th {\n",
       "        text-align: right;\n",
       "    }\n",
       "</style>\n",
       "<table border=\"1\" class=\"dataframe\">\n",
       "  <thead>\n",
       "    <tr style=\"text-align: right;\">\n",
       "      <th></th>\n",
       "      <th>Coefficients</th>\n",
       "      <th>Standard deviance</th>\n",
       "      <th>p-values</th>\n",
       "    </tr>\n",
       "  </thead>\n",
       "  <tbody>\n",
       "    <tr>\n",
       "      <th>intercept</th>\n",
       "      <td>0.000000</td>\n",
       "      <td>0.064966</td>\n",
       "      <td>1.000000e+00</td>\n",
       "    </tr>\n",
       "    <tr>\n",
       "      <th>ADHEU</th>\n",
       "      <td>-0.085491</td>\n",
       "      <td>0.174001</td>\n",
       "      <td>6.236304e-01</td>\n",
       "    </tr>\n",
       "    <tr>\n",
       "      <th>HOCHOZON</th>\n",
       "      <td>-0.275212</td>\n",
       "      <td>0.114273</td>\n",
       "      <td>1.675705e-02</td>\n",
       "    </tr>\n",
       "    <tr>\n",
       "      <th>AMATOP</th>\n",
       "      <td>0.074196</td>\n",
       "      <td>0.100874</td>\n",
       "      <td>4.627138e-01</td>\n",
       "    </tr>\n",
       "    <tr>\n",
       "      <th>AVATOP</th>\n",
       "      <td>-0.053700</td>\n",
       "      <td>0.096761</td>\n",
       "      <td>5.794137e-01</td>\n",
       "    </tr>\n",
       "    <tr>\n",
       "      <th>ADEKZ</th>\n",
       "      <td>-0.133412</td>\n",
       "      <td>0.100308</td>\n",
       "      <td>1.847384e-01</td>\n",
       "    </tr>\n",
       "    <tr>\n",
       "      <th>ARAUCH</th>\n",
       "      <td>-0.035821</td>\n",
       "      <td>0.093061</td>\n",
       "      <td>7.006273e-01</td>\n",
       "    </tr>\n",
       "    <tr>\n",
       "      <th>FSNIGHT</th>\n",
       "      <td>-0.034033</td>\n",
       "      <td>0.152263</td>\n",
       "      <td>8.233179e-01</td>\n",
       "    </tr>\n",
       "    <tr>\n",
       "      <th>FMILB</th>\n",
       "      <td>-0.196045</td>\n",
       "      <td>0.154182</td>\n",
       "      <td>2.047412e-01</td>\n",
       "    </tr>\n",
       "    <tr>\n",
       "      <th>FTIER</th>\n",
       "      <td>0.055690</td>\n",
       "      <td>0.153182</td>\n",
       "      <td>7.165033e-01</td>\n",
       "    </tr>\n",
       "    <tr>\n",
       "      <th>FPOLL</th>\n",
       "      <td>-0.011709</td>\n",
       "      <td>0.198942</td>\n",
       "      <td>9.531140e-01</td>\n",
       "    </tr>\n",
       "    <tr>\n",
       "      <th>FSPT</th>\n",
       "      <td>-0.115361</td>\n",
       "      <td>0.212263</td>\n",
       "      <td>5.872887e-01</td>\n",
       "    </tr>\n",
       "    <tr>\n",
       "      <th>FSATEM</th>\n",
       "      <td>0.290896</td>\n",
       "      <td>0.233122</td>\n",
       "      <td>2.132759e-01</td>\n",
       "    </tr>\n",
       "    <tr>\n",
       "      <th>FSAUGE</th>\n",
       "      <td>0.100089</td>\n",
       "      <td>0.128319</td>\n",
       "      <td>4.361371e-01</td>\n",
       "    </tr>\n",
       "    <tr>\n",
       "      <th>FSPFEI</th>\n",
       "      <td>0.137500</td>\n",
       "      <td>0.248114</td>\n",
       "      <td>5.799572e-01</td>\n",
       "    </tr>\n",
       "    <tr>\n",
       "      <th>FSHLAUF</th>\n",
       "      <td>-0.004113</td>\n",
       "      <td>0.184195</td>\n",
       "      <td>9.822043e-01</td>\n",
       "    </tr>\n",
       "    <tr>\n",
       "      <th>MALE</th>\n",
       "      <td>0.471512</td>\n",
       "      <td>0.053396</td>\n",
       "      <td>2.220446e-16</td>\n",
       "    </tr>\n",
       "    <tr>\n",
       "      <th>FEMALE</th>\n",
       "      <td>0.007291</td>\n",
       "      <td>0.050103</td>\n",
       "      <td>8.844238e-01</td>\n",
       "    </tr>\n",
       "    <tr>\n",
       "      <th>ALTER</th>\n",
       "      <td>0.037743</td>\n",
       "      <td>0.048568</td>\n",
       "      <td>4.378254e-01</td>\n",
       "    </tr>\n",
       "    <tr>\n",
       "      <th>AGEBGEW</th>\n",
       "      <td>0.065523</td>\n",
       "      <td>0.041005</td>\n",
       "      <td>1.113365e-01</td>\n",
       "    </tr>\n",
       "    <tr>\n",
       "      <th>FLGROSS</th>\n",
       "      <td>0.482368</td>\n",
       "      <td>0.064714</td>\n",
       "      <td>1.526557e-12</td>\n",
       "    </tr>\n",
       "    <tr>\n",
       "      <th>FNOH24</th>\n",
       "      <td>-0.203376</td>\n",
       "      <td>0.053352</td>\n",
       "      <td>1.741477e-04</td>\n",
       "    </tr>\n",
       "    <tr>\n",
       "      <th>FLTOTMED</th>\n",
       "      <td>0.003050</td>\n",
       "      <td>0.041275</td>\n",
       "      <td>9.411556e-01</td>\n",
       "    </tr>\n",
       "    <tr>\n",
       "      <th>FO3H24</th>\n",
       "      <td>0.079722</td>\n",
       "      <td>0.087616</td>\n",
       "      <td>3.637616e-01</td>\n",
       "    </tr>\n",
       "    <tr>\n",
       "      <th>FTEH24</th>\n",
       "      <td>-0.038663</td>\n",
       "      <td>0.078167</td>\n",
       "      <td>6.213140e-01</td>\n",
       "    </tr>\n",
       "    <tr>\n",
       "      <th>FLGEW</th>\n",
       "      <td>0.261821</td>\n",
       "      <td>0.061050</td>\n",
       "      <td>2.580945e-05</td>\n",
       "    </tr>\n",
       "  </tbody>\n",
       "</table>\n",
       "</div>"
      ],
      "text/plain": [
       "           Coefficients  Standard deviance      p-values\n",
       "intercept      0.000000           0.064966  1.000000e+00\n",
       "ADHEU         -0.085491           0.174001  6.236304e-01\n",
       "HOCHOZON      -0.275212           0.114273  1.675705e-02\n",
       "AMATOP         0.074196           0.100874  4.627138e-01\n",
       "AVATOP        -0.053700           0.096761  5.794137e-01\n",
       "ADEKZ         -0.133412           0.100308  1.847384e-01\n",
       "ARAUCH        -0.035821           0.093061  7.006273e-01\n",
       "FSNIGHT       -0.034033           0.152263  8.233179e-01\n",
       "FMILB         -0.196045           0.154182  2.047412e-01\n",
       "FTIER          0.055690           0.153182  7.165033e-01\n",
       "FPOLL         -0.011709           0.198942  9.531140e-01\n",
       "FSPT          -0.115361           0.212263  5.872887e-01\n",
       "FSATEM         0.290896           0.233122  2.132759e-01\n",
       "FSAUGE         0.100089           0.128319  4.361371e-01\n",
       "FSPFEI         0.137500           0.248114  5.799572e-01\n",
       "FSHLAUF       -0.004113           0.184195  9.822043e-01\n",
       "MALE           0.471512           0.053396  2.220446e-16\n",
       "FEMALE         0.007291           0.050103  8.844238e-01\n",
       "ALTER          0.037743           0.048568  4.378254e-01\n",
       "AGEBGEW        0.065523           0.041005  1.113365e-01\n",
       "FLGROSS        0.482368           0.064714  1.526557e-12\n",
       "FNOH24        -0.203376           0.053352  1.741477e-04\n",
       "FLTOTMED       0.003050           0.041275  9.411556e-01\n",
       "FO3H24         0.079722           0.087616  3.637616e-01\n",
       "FTEH24        -0.038663           0.078167  6.213140e-01\n",
       "FLGEW          0.261821           0.061050  2.580945e-05"
      ]
     },
     "execution_count": 29,
     "metadata": {},
     "output_type": "execute_result"
    }
   ],
   "source": [
    "summary_train = summary_OLS(X_train, y_train, X_train.columns.values)\n",
    "\n",
    "summary_test = summary_OLS(X_test, y_test, X_test.columns.values)\n",
    "\n",
    "summary_train"
   ]
  },
  {
   "cell_type": "markdown",
   "metadata": {},
   "source": [
    "## Problem 1.3 \n",
    "\n",
    "I'm choosing to use criterias for p-value in backward elimination and forward selection."
   ]
  },
  {
   "cell_type": "markdown",
   "metadata": {},
   "source": [
    "### Backward elimination"
   ]
  },
  {
   "cell_type": "code",
   "execution_count": 30,
   "metadata": {},
   "outputs": [],
   "source": [
    "# Problem 1.3\n",
    "\n",
    "def backward_elimination(X, y, alpha):\n",
    "    # Make copies of X and y\n",
    "    X_copy = X.copy()\n",
    "    y_copy = y.copy()\n",
    "    \n",
    "    feature_names = X_copy.columns.values\n",
    "    # Calculating coefficients, standard deviations and p-values as summary\n",
    "    # of initial X and y \n",
    "    summary = summary_OLS(X_copy, y_copy, feature_names)\n",
    "    p_values = summary.loc[:, \"p-values\"]\n",
    "\n",
    "    # Find maximum p-value\n",
    "    p_max = np.max(p_values)\n",
    "    \n",
    "    # Iterate until p <= alpha\n",
    "    while p_max > alpha:\n",
    "        # Calculating coefficients, standard deviations and p-values using summary_OLS function\n",
    "        feature_names = X_copy.columns.values\n",
    "        summary = summary_OLS(X_copy, y_copy, feature_names)\n",
    "        summary.drop(\"intercept\", axis=0, inplace=True)\n",
    "        p_values = summary.loc[:, \"p-values\"]\n",
    "        \n",
    "        # Locating index with maximum p-value and \n",
    "        # dropping corresponding feature\n",
    "        p_max_index = p_values.idxmax(axis=1)\n",
    "        X_copy.drop(p_max_index, axis=1, inplace=True)\n",
    "        \n",
    "        # Update maximum p-value\n",
    "        p_max = p_values.loc[p_max_index]        \n",
    "    feature_names = X_copy.columns.values\n",
    "    \n",
    "    return X_copy, summary_OLS(X_copy, y_copy, feature_names)\n",
    "\n"
   ]
  },
  {
   "cell_type": "code",
   "execution_count": 31,
   "metadata": {},
   "outputs": [
    {
     "name": "stdout",
     "output_type": "stream",
     "text": [
      "Backward elimination using threshold 0.1 \n",
      "\n",
      "            Coefficients  Standard deviance      p-values\n",
      "intercept      0.000000           0.079393  1.000000e+00\n",
      "HOCHOZON      -0.265769           0.091128  3.866320e-03\n",
      "FMILB         -0.235040           0.106927  2.886814e-02\n",
      "MALE           0.428085           0.075915  4.662965e-08\n",
      "AGEBGEW        0.064363           0.039638  1.057023e-01\n",
      "FLGROSS        0.512045           0.055718  0.000000e+00\n",
      "FNOH24        -0.182559           0.044339  5.229183e-05\n",
      "FLGEW          0.251048           0.056676  1.419891e-05\n"
     ]
    }
   ],
   "source": [
    "X_backelim_1_train, summary_backelim_1_train = backward_elimination(X_train, y_train, 1e-1)\n",
    "print(\"Backward elimination using threshold 0.1 \\n\\n\", summary_backelim_1_train)"
   ]
  },
  {
   "cell_type": "code",
   "execution_count": 32,
   "metadata": {},
   "outputs": [
    {
     "ename": "NameError",
     "evalue": "name 'summary_backelim_2_test' is not defined",
     "output_type": "error",
     "traceback": [
      "\u001b[0;31m---------------------------------------------------------------------------\u001b[0m",
      "\u001b[0;31mNameError\u001b[0m                                 Traceback (most recent call last)",
      "\u001b[0;32m<ipython-input-32-2653cf279e1d>\u001b[0m in \u001b[0;36m<module>\u001b[0;34m\u001b[0m\n\u001b[1;32m      1\u001b[0m \u001b[0mX_backelim_2_train\u001b[0m\u001b[0;34m,\u001b[0m \u001b[0msummary_backelim_2_train\u001b[0m \u001b[0;34m=\u001b[0m \u001b[0mbackward_elimination\u001b[0m\u001b[0;34m(\u001b[0m\u001b[0mX_train\u001b[0m\u001b[0;34m,\u001b[0m \u001b[0my_train\u001b[0m\u001b[0;34m,\u001b[0m \u001b[0;36m1e-3\u001b[0m\u001b[0;34m)\u001b[0m\u001b[0;34m\u001b[0m\u001b[0;34m\u001b[0m\u001b[0m\n\u001b[0;32m----> 2\u001b[0;31m \u001b[0msummary_backelim_2_test\u001b[0m\u001b[0;34m\u001b[0m\u001b[0;34m\u001b[0m\u001b[0m\n\u001b[0m\u001b[1;32m      3\u001b[0m \u001b[0;34m\u001b[0m\u001b[0m\n\u001b[1;32m      4\u001b[0m \u001b[0mprint\u001b[0m\u001b[0;34m(\u001b[0m\u001b[0;34m\"Backward elimination using threshold 0.001 \\n\\n\"\u001b[0m\u001b[0;34m,\u001b[0m \u001b[0msummary_backelim_2_train\u001b[0m\u001b[0;34m)\u001b[0m\u001b[0;34m\u001b[0m\u001b[0;34m\u001b[0m\u001b[0m\n",
      "\u001b[0;31mNameError\u001b[0m: name 'summary_backelim_2_test' is not defined"
     ]
    }
   ],
   "source": [
    "X_backelim_2_train, summary_backelim_2_train = backward_elimination(X_train, y_train, 1e-3)\n",
    "summary_backelim_2_test\n",
    "\n",
    "print(\"Backward elimination using threshold 0.001 \\n\\n\", summary_backelim_2_train)"
   ]
  },
  {
   "cell_type": "markdown",
   "metadata": {},
   "source": [
    "### Forward selection"
   ]
  },
  {
   "cell_type": "code",
   "execution_count": 34,
   "metadata": {},
   "outputs": [],
   "source": [
    "def forward_selection(X, y, alpha):\n",
    "    X_copy = X.copy()\n",
    "    y_copy = y.copy()\n",
    "    p_max = alpha - 1\n",
    "    p_min = 0\n",
    "    feature_include = []\n",
    "    feature_names = np.array(list(X_copy.columns.values))\n",
    "    while p_max < alpha and len(feature_names)>0:\n",
    "\n",
    "        n_features = len(feature_names)\n",
    "        p_values = np.zeros(n_features)\n",
    "        \n",
    "        for i, feature in enumerate(feature_names):\n",
    "                    \n",
    "            features = np.append(feature_include, feature_names[i])\n",
    "\n",
    "            X_feature = X_copy.loc[:, features].values\n",
    "            summary = summary_OLS(X_feature, y_copy, features)\n",
    "\n",
    "            summary.drop(([\"intercept\"] + feature_include ), axis=0, inplace=True)\n",
    "            \n",
    "            \n",
    "            p_one = summary.loc[:, \"p-values\"].values\n",
    "            p_values[i] = p_one\n",
    "        \n",
    "        p_min_index = np.argmin(p_values)\n",
    "        p_min = p_values[p_min_index]\n",
    "\n",
    "        feature_min_p = feature_names[p_min_index]\n",
    "        feature_include.append(feature_min_p)\n",
    "        feature_names = feature_names[feature_names != feature_min_p]\n",
    "\n",
    "        \n",
    "        X_feature = X_copy.loc[:, features].values\n",
    "\n",
    "        summary_ = summary_OLS(X_feature, y_copy, feature_include)\n",
    "        \n",
    "        p_max = summary.loc[:, \"p-values\"].values.max()\n",
    "\n",
    "        X_final = X_copy.loc[:, feature_include]\n",
    "        \n",
    "    return X_final, summary_OLS(X_final, y_copy, feature_include)\n"
   ]
  },
  {
   "cell_type": "code",
   "execution_count": 35,
   "metadata": {},
   "outputs": [
    {
     "name": "stdout",
     "output_type": "stream",
     "text": [
      "Forward selection using threshold 0.1\n",
      " \n",
      "            Coefficients  Standard deviance      p-values\n",
      "intercept      0.000000           0.040738  1.000000e+00\n",
      "FLGROSS        0.518356           0.060276  8.881784e-16\n",
      "FLGEW          0.283676           0.060013  3.831985e-06\n",
      "FNOH24        -0.135803           0.041170  1.114813e-03\n"
     ]
    }
   ],
   "source": [
    "X_forsec_1_train, summary_forsec_1_train = forward_selection(X_train, y_train, 1e-1)\n",
    "print(\"Forward selection using threshold 0.1\\n \\n\",summary_forsec_1_train)"
   ]
  },
  {
   "cell_type": "code",
   "execution_count": 36,
   "metadata": {},
   "outputs": [
    {
     "name": "stdout",
     "output_type": "stream",
     "text": [
      "Forward selection using threshold 0.001\n",
      " \n",
      "            Coefficients  Standard deviance      p-values\n",
      "intercept      0.000000           0.040738  1.000000e+00\n",
      "FLGROSS        0.518356           0.060276  8.881784e-16\n",
      "FLGEW          0.283676           0.060013  3.831985e-06\n",
      "FNOH24        -0.135803           0.041170  1.114813e-03\n"
     ]
    }
   ],
   "source": [
    "X_forsec_2_train, summary_forsec_2_train = forward_selection(X_train, y_train, 1e-3)\n",
    "print(f\"Forward selection using threshold 0.001\\n \\n\",summary_forsec_2_train)"
   ]
  },
  {
   "cell_type": "markdown",
   "metadata": {},
   "source": [
    "It is interesting to note that using the same criteria $\\alpha$ for p-value in both backward elimination and forward selection, for $\\alpha=0.1$ the number of variables in the model is higher for backward elimination (6) than forward selection (3). For $\\alpha=0.001$ the backward selection model contains three variables, while the forward selection contains two variables. The variable FLGROSS is included in every model and seems to be the most significant. Looking at the low p-values of the remaining variables of the new models, I think it is likely that these models will perform better than the full models, as eliminating the other variables with higher p-values is like eliminating noise. "
   ]
  },
  {
   "cell_type": "markdown",
   "metadata": {},
   "source": [
    "## Problem 1.4\n"
   ]
  },
  {
   "cell_type": "code",
   "execution_count": 37,
   "metadata": {},
   "outputs": [],
   "source": [
    "def bootstrap(y, n_iter=1000):\n",
    "    N = len(y)\n",
    "    N_train = int(0.8*N)\n",
    "    N_test = int(0.2*N)\n",
    "    \n",
    "    all_indices = np.arange(N)\n",
    "    \n",
    "    indices_bootstrapped = []\n",
    "    for i in range(n_iter):\n",
    "        indices_train = np.random.choice(all_indices, size=N_train, replace=True)\n",
    "        indices_test = np.random.choice(all_indices, size=N_test, replace=True)\n",
    "        \n",
    "        indices_bootstrapped.append([indices_train, indices_test])\n",
    "        \n",
    "    return indices_bootstrapped\n",
    "    \n",
    "    "
   ]
  },
  {
   "cell_type": "code",
   "execution_count": 38,
   "metadata": {},
   "outputs": [],
   "source": [
    "shrinkage_param = np.logspace(-3, -1, 1000)\n",
    "\n",
    "# Lasso with 5-fold cross validation \n",
    "reg_lasso_cv = skllm.LassoCV(alphas=shrinkage_param, cv=5, n_jobs=-1, fit_intercept=False).fit(X_train, y_train)\n",
    "# calculate mean square error for the test on each fold, \n",
    "# then take the mean over all folds axis=1\n",
    "MSE_lasso_cv = np.mean(reg_lasso_cv.mse_path_, axis=1)\n"
   ]
  },
  {
   "cell_type": "code",
   "execution_count": 39,
   "metadata": {},
   "outputs": [],
   "source": [
    "a = bootstrap(y_train, n_iter=100)\n",
    "reg_lasso_bootstrap = skllm.LassoCV(alphas=shrinkage_param, cv=a, n_jobs=-1, fit_intercept=False).fit(X_train, y_train)\n",
    "MSE_lasso_bootstrap = np.mean(reg_lasso_bootstrap.mse_path_, axis=1)"
   ]
  },
  {
   "cell_type": "code",
   "execution_count": 40,
   "metadata": {},
   "outputs": [
    {
     "data": {
      "image/png": "[encoded data removed]",
      "text/plain": [
       "<Figure size 720x360 with 1 Axes>"
      ]
     },
     "metadata": {
      "needs_background": "light"
     },
     "output_type": "display_data"
    }
   ],
   "source": [
    "figure_lasso = plt.figure(figsize=(10,5))\n",
    "plt.semilogx(shrinkage_param, MSE_lasso_cv[::-1], label=\"5-fold CV\")\n",
    "plt.semilogx(shrinkage_param, MSE_lasso_bootstrap[::-1], label=\"Bootstrap\")\n",
    "plt.xlabel(r\"Hyperparameter $\\lambda$\")\n",
    "plt.ylabel(\"EPE\")\n",
    "plt.legend()\n",
    "plt.grid()\n",
    "plt.show()\n",
    "\n"
   ]
  },
  {
   "cell_type": "code",
   "execution_count": 41,
   "metadata": {},
   "outputs": [
    {
     "name": "stdout",
     "output_type": "stream",
     "text": [
      "The best shrinkage parameter for Lasso using CV is 2.01e-02 with R2 score of 0.60\n",
      "The best shrinkage parameter for Lasso using bootstrap is 1.17e-02 with R2 score of 0.60\n"
     ]
    }
   ],
   "source": [
    "print(f\"The best shrinkage parameter for Lasso using CV is {reg_lasso_cv.alpha_:.2e} \"+ \n",
    "      f\"with R2 score of {reg_lasso_cv.score(X_test,y_test):.2f}\")\n",
    "\n",
    "\n",
    "print(f\"The best shrinkage parameter for Lasso using bootstrap is {reg_lasso_bootstrap.alpha_:.2e} \"+ \n",
    "      f\"with R2 score of {reg_lasso_bootstrap.score(X_test,y_test):.2f}\")"
   ]
  },
  {
   "cell_type": "markdown",
   "metadata": {},
   "source": [
    "From the plot, the EPE found using bootstrap is noticably lower than the EPE found using 5-fold cross validation. This is due to the severe underestimation of the EPE by the bootstrapping method, as the training and test sets are not independent. This can be improved by using e.g. 0.632 bootstrap."
   ]
  },
  {
   "cell_type": "markdown",
   "metadata": {},
   "source": [
    "## Problem 1.5"
   ]
  },
  {
   "cell_type": "code",
   "execution_count": 42,
   "metadata": {},
   "outputs": [
    {
     "data": {
      "image/png": "[encoded data removed]",
      "text/plain": [
       "<Figure size 1080x720 with 25 Axes>"
      ]
     },
     "metadata": {
      "needs_background": "light"
     },
     "output_type": "display_data"
    }
   ],
   "source": [
    "# Checking for linear dependence\n",
    "\n",
    "gam_check = pygam.LinearGAM().fit(X_train.values, y_train.values)\n",
    "# Plotting\n",
    "fig, axes = plt.subplots(5, 5, figsize=[15, 10], sharey=True)\n",
    "for i, ax in enumerate(axes.ravel()):\n",
    "    XX = gam_check.generate_X_grid(i)\n",
    "    pdep, confi = gam_check.partial_dependence(term=i, X=XX, width=0.95, meshgrid=False)\n",
    "    ax.plot(XX[:, i], pdep, c=\"black\")\n",
    "    ax.plot(XX[:, i], confi[:, 0], c=\"green\", ls=\"--\")\n",
    "    ax.plot(XX[:, i], confi[:, 1], c=\"green\", ls=\"--\")\n",
    "    ax.set_title(X_train.columns.values[i])\n",
    "fig.tight_layout()\n",
    "plt.show()\n",
    "\n"
   ]
  },
  {
   "cell_type": "markdown",
   "metadata": {},
   "source": [
    "Judging from the above plots, the variables that seem nonlinear to me are FLGROSS, FTEH24 and FLGEW.\n",
    "\n",
    "First we try to fit a GAM:"
   ]
  },
  {
   "cell_type": "code",
   "execution_count": 43,
   "metadata": {},
   "outputs": [
    {
     "name": "stderr",
     "output_type": "stream",
     "text": [
      "100% (150 of 150) |######################| Elapsed Time: 0:00:14 Time:  0:00:14\n"
     ]
    }
   ],
   "source": [
    "nonlinear_features = [\"FLGROSS\", \"FTEH24\",\"FLGEW\"]\n",
    "\n",
    "# In pygam, pygam.l indicates linear, pygam.s is splines\n",
    "\n",
    "# Initializing pygam for the first variable ADHEU, which is linear:\n",
    "gam_feature_type =  pygam.l(0)\n",
    "\n",
    "# Then for the rest of the features:\n",
    "for i, feature in enumerate(X_train.columns.values[1:]):\n",
    "    # Splines for non-linear features\n",
    "    if feature in nonlinear_features:\n",
    "        gam_feature_type +=  pygam.s(i, spline_order=3, n_splines=5)\n",
    "    #  And linear for the others\n",
    "    else:\n",
    "        gam_feature_type += pygam.l(i)\n",
    "\n",
    "        \n",
    "# Grid search over penalties in log space and train the model\n",
    "penalties = np.logspace(-5, 2, 150)        \n",
    "gam = pygam.LinearGAM(gam_feature_type).gridsearch(\n",
    "    X_train.values, y_train.values, lam=penalties\n",
    ")\n",
    "\n"
   ]
  },
  {
   "cell_type": "markdown",
   "metadata": {},
   "source": [
    "There apparently is a [bug](https://github.com/dswah/pyGAM/blob/master/pygam/pygam.py#L1672) in the pygam library where the p-values are incorrectly calculated and underestimated, so I have chosen not to include those results as the p-values would be lower than they should and would not be meaningful to interpret. "
   ]
  },
  {
   "cell_type": "code",
   "execution_count": 44,
   "metadata": {},
   "outputs": [
    {
     "name": "stdout",
     "output_type": "stream",
     "text": [
      "R^2 score test: 0.57, R^2 score train: 0.64\n"
     ]
    }
   ],
   "source": [
    "r2_test_gam = gam._estimate_r2(X_test.values, y_test.values)[\"explained_deviance\"]\n",
    "r2_train_gam = gam._estimate_r2(X_train.values, y_train.values)[\"explained_deviance\"]\n",
    "print(f\"R^2 score test: {r2_test_gam:.2f}, R^2 score train: {r2_train_gam:.2f}\")"
   ]
  },
  {
   "cell_type": "markdown",
   "metadata": {},
   "source": [
    "Now we will try to add non-linear terms to the linear model:"
   ]
  },
  {
   "cell_type": "code",
   "execution_count": 45,
   "metadata": {},
   "outputs": [],
   "source": [
    "# First need to undo the scaling and centering of the data for training and test set:\n",
    "variables_train_new = scaler.inverse_transform(\n",
    "    variables_final_train.loc[:, col_continuous]\n",
    ")\n",
    "\n",
    "variables_test_new = scaler.inverse_transform(\n",
    "    variables_final_test.loc[:, col_continuous]\n",
    ")\n",
    "\n",
    "# Turn into dataframes \n",
    "variables_train_new_df = pd.DataFrame(variables_train_new, columns=list(col_continuous))\n",
    "variables_test_new_df = pd.DataFrame(variables_test_new, columns=list(col_continuous))\n",
    "\n"
   ]
  },
  {
   "cell_type": "code",
   "execution_count": 46,
   "metadata": {},
   "outputs": [],
   "source": [
    "X_train_new = variables_train_new_df.loc[:, variables_train_new_df.columns!=\"FFVC\"]\n",
    "X_test_new = variables_test_new_df.loc[:, variables_test_new_df.columns!=\"FFVC\"]\n",
    "\n",
    "features_continuous = col_continuous[col_continuous!=\"FFVC\"]\n",
    "\n",
    "X_nonlinear_train = []\n",
    "X_nonlinear_test = []\n",
    "nonlinear_names = []\n",
    "\n",
    "for i, feature in enumerate(features_continuous):\n",
    "    if feature in nonlinear_features:\n",
    "        # Adding 2nd degree to the features I identified as nonlinear earlier\n",
    "        X_nonlinear_train.append(X_train_new.values[:, i]**2)\n",
    "        X_nonlinear_test.append(X_test_new.values[:, i]**2)\n",
    "        nonlinear_names.append(feature + \"^2\")\n",
    "        # Adding 3rd degree to the features I identified as nonlinear earlier\n",
    "        X_nonlinear_train.append(X_train_new.values[:, i]**3)\n",
    "        X_nonlinear_test.append(X_test_new.values[:, i]**3)\n",
    "        nonlinear_names.append(feature + \"^3\")\n",
    "\n",
    "X_nonlinear_train = np.array(X_nonlinear_train).T\n",
    "X_nonlinear_test = np.array(X_nonlinear_test).T"
   ]
  },
  {
   "cell_type": "code",
   "execution_count": 47,
   "metadata": {},
   "outputs": [],
   "source": [
    "# Now we need to scale and center the new non-linear terms:\n",
    "scaler_nonlinear = sklpre.StandardScaler().fit(X_nonlinear_train)\n",
    "\n",
    "X_nonlinear_train_scaled = scaler_nonlinear.transform(X_nonlinear_train)\n",
    "X_nonlinear_test_scaled = scaler_nonlinear.transform(X_nonlinear_test)\n",
    "\n",
    "X_nonlinear_train_scaled_df = pd.DataFrame(X_nonlinear_train_scaled, columns = nonlinear_names)\n",
    "X_nonlinear_test_scaled_df = pd.DataFrame(X_nonlinear_test_scaled, columns = nonlinear_names)\n"
   ]
  },
  {
   "cell_type": "code",
   "execution_count": 48,
   "metadata": {},
   "outputs": [
    {
     "name": "stdout",
     "output_type": "stream",
     "text": [
      "R^2 score for nonlinear model: 0.6224037436990644\n"
     ]
    },
    {
     "data": {
      "text/html": [
       "<div>\n",
       "<style scoped>\n",
       "    .dataframe tbody tr th:only-of-type {\n",
       "        vertical-align: middle;\n",
       "    }\n",
       "\n",
       "    .dataframe tbody tr th {\n",
       "        vertical-align: top;\n",
       "    }\n",
       "\n",
       "    .dataframe thead th {\n",
       "        text-align: right;\n",
       "    }\n",
       "</style>\n",
       "<table border=\"1\" class=\"dataframe\">\n",
       "  <thead>\n",
       "    <tr style=\"text-align: right;\">\n",
       "      <th></th>\n",
       "      <th>Coefficients</th>\n",
       "      <th>Standard deviance</th>\n",
       "      <th>p-values</th>\n",
       "    </tr>\n",
       "  </thead>\n",
       "  <tbody>\n",
       "    <tr>\n",
       "      <th>intercept</th>\n",
       "      <td>0.000000</td>\n",
       "      <td>0.066745</td>\n",
       "      <td>1.000000e+00</td>\n",
       "    </tr>\n",
       "    <tr>\n",
       "      <th>ADHEU</th>\n",
       "      <td>-0.079155</td>\n",
       "      <td>0.174881</td>\n",
       "      <td>6.512181e-01</td>\n",
       "    </tr>\n",
       "    <tr>\n",
       "      <th>HOCHOZON</th>\n",
       "      <td>-0.234284</td>\n",
       "      <td>0.118380</td>\n",
       "      <td>4.891669e-02</td>\n",
       "    </tr>\n",
       "    <tr>\n",
       "      <th>AMATOP</th>\n",
       "      <td>0.053766</td>\n",
       "      <td>0.101719</td>\n",
       "      <td>5.975740e-01</td>\n",
       "    </tr>\n",
       "    <tr>\n",
       "      <th>AVATOP</th>\n",
       "      <td>-0.019458</td>\n",
       "      <td>0.098088</td>\n",
       "      <td>8.429183e-01</td>\n",
       "    </tr>\n",
       "    <tr>\n",
       "      <th>ADEKZ</th>\n",
       "      <td>-0.094412</td>\n",
       "      <td>0.100758</td>\n",
       "      <td>3.496681e-01</td>\n",
       "    </tr>\n",
       "    <tr>\n",
       "      <th>ARAUCH</th>\n",
       "      <td>-0.015254</td>\n",
       "      <td>0.093362</td>\n",
       "      <td>8.703518e-01</td>\n",
       "    </tr>\n",
       "    <tr>\n",
       "      <th>FSNIGHT</th>\n",
       "      <td>-0.024180</td>\n",
       "      <td>0.151812</td>\n",
       "      <td>8.735840e-01</td>\n",
       "    </tr>\n",
       "    <tr>\n",
       "      <th>FMILB</th>\n",
       "      <td>-0.198726</td>\n",
       "      <td>0.154743</td>\n",
       "      <td>2.002638e-01</td>\n",
       "    </tr>\n",
       "    <tr>\n",
       "      <th>FTIER</th>\n",
       "      <td>0.074665</td>\n",
       "      <td>0.153674</td>\n",
       "      <td>6.274909e-01</td>\n",
       "    </tr>\n",
       "    <tr>\n",
       "      <th>FPOLL</th>\n",
       "      <td>-0.072878</td>\n",
       "      <td>0.200577</td>\n",
       "      <td>7.166599e-01</td>\n",
       "    </tr>\n",
       "    <tr>\n",
       "      <th>FSPT</th>\n",
       "      <td>-0.070002</td>\n",
       "      <td>0.215073</td>\n",
       "      <td>7.450951e-01</td>\n",
       "    </tr>\n",
       "    <tr>\n",
       "      <th>FSATEM</th>\n",
       "      <td>0.304387</td>\n",
       "      <td>0.234076</td>\n",
       "      <td>1.946837e-01</td>\n",
       "    </tr>\n",
       "    <tr>\n",
       "      <th>FSAUGE</th>\n",
       "      <td>0.122639</td>\n",
       "      <td>0.129272</td>\n",
       "      <td>3.437038e-01</td>\n",
       "    </tr>\n",
       "    <tr>\n",
       "      <th>FSPFEI</th>\n",
       "      <td>0.131439</td>\n",
       "      <td>0.246728</td>\n",
       "      <td>5.947012e-01</td>\n",
       "    </tr>\n",
       "    <tr>\n",
       "      <th>FSHLAUF</th>\n",
       "      <td>-0.095158</td>\n",
       "      <td>0.186268</td>\n",
       "      <td>6.099001e-01</td>\n",
       "    </tr>\n",
       "    <tr>\n",
       "      <th>MALE</th>\n",
       "      <td>0.434777</td>\n",
       "      <td>0.054070</td>\n",
       "      <td>3.708145e-14</td>\n",
       "    </tr>\n",
       "    <tr>\n",
       "      <th>FEMALE</th>\n",
       "      <td>-0.041283</td>\n",
       "      <td>0.051016</td>\n",
       "      <td>4.191775e-01</td>\n",
       "    </tr>\n",
       "    <tr>\n",
       "      <th>ALTER</th>\n",
       "      <td>0.035502</td>\n",
       "      <td>0.049072</td>\n",
       "      <td>4.700763e-01</td>\n",
       "    </tr>\n",
       "    <tr>\n",
       "      <th>AGEBGEW</th>\n",
       "      <td>0.057251</td>\n",
       "      <td>0.041682</td>\n",
       "      <td>1.708311e-01</td>\n",
       "    </tr>\n",
       "    <tr>\n",
       "      <th>FLGROSS</th>\n",
       "      <td>-11.572593</td>\n",
       "      <td>28.336824</td>\n",
       "      <td>6.833382e-01</td>\n",
       "    </tr>\n",
       "    <tr>\n",
       "      <th>FNOH24</th>\n",
       "      <td>-0.184276</td>\n",
       "      <td>0.054835</td>\n",
       "      <td>9.010599e-04</td>\n",
       "    </tr>\n",
       "    <tr>\n",
       "      <th>FLTOTMED</th>\n",
       "      <td>-0.000139</td>\n",
       "      <td>0.041100</td>\n",
       "      <td>9.972979e-01</td>\n",
       "    </tr>\n",
       "    <tr>\n",
       "      <th>FO3H24</th>\n",
       "      <td>0.089253</td>\n",
       "      <td>0.096183</td>\n",
       "      <td>3.543357e-01</td>\n",
       "    </tr>\n",
       "    <tr>\n",
       "      <th>FTEH24</th>\n",
       "      <td>1.206839</td>\n",
       "      <td>1.150865</td>\n",
       "      <td>2.953705e-01</td>\n",
       "    </tr>\n",
       "    <tr>\n",
       "      <th>FLGEW</th>\n",
       "      <td>4.426434</td>\n",
       "      <td>1.472596</td>\n",
       "      <td>2.921211e-03</td>\n",
       "    </tr>\n",
       "    <tr>\n",
       "      <th>FLGROSS^2</th>\n",
       "      <td>22.744971</td>\n",
       "      <td>56.815319</td>\n",
       "      <td>6.892583e-01</td>\n",
       "    </tr>\n",
       "    <tr>\n",
       "      <th>FLGROSS^3</th>\n",
       "      <td>-10.737684</td>\n",
       "      <td>28.523355</td>\n",
       "      <td>7.069038e-01</td>\n",
       "    </tr>\n",
       "    <tr>\n",
       "      <th>FTEH24^2</th>\n",
       "      <td>-2.522997</td>\n",
       "      <td>2.480757</td>\n",
       "      <td>3.101356e-01</td>\n",
       "    </tr>\n",
       "    <tr>\n",
       "      <th>FTEH24^3</th>\n",
       "      <td>1.288299</td>\n",
       "      <td>1.353470</td>\n",
       "      <td>3.421041e-01</td>\n",
       "    </tr>\n",
       "    <tr>\n",
       "      <th>FLGEW^2</th>\n",
       "      <td>-7.658038</td>\n",
       "      <td>2.772327</td>\n",
       "      <td>6.170810e-03</td>\n",
       "    </tr>\n",
       "    <tr>\n",
       "      <th>FLGEW^3</th>\n",
       "      <td>3.589892</td>\n",
       "      <td>1.357829</td>\n",
       "      <td>8.721709e-03</td>\n",
       "    </tr>\n",
       "  </tbody>\n",
       "</table>\n",
       "</div>"
      ],
      "text/plain": [
       "           Coefficients  Standard deviance      p-values\n",
       "intercept      0.000000           0.066745  1.000000e+00\n",
       "ADHEU         -0.079155           0.174881  6.512181e-01\n",
       "HOCHOZON      -0.234284           0.118380  4.891669e-02\n",
       "AMATOP         0.053766           0.101719  5.975740e-01\n",
       "AVATOP        -0.019458           0.098088  8.429183e-01\n",
       "ADEKZ         -0.094412           0.100758  3.496681e-01\n",
       "ARAUCH        -0.015254           0.093362  8.703518e-01\n",
       "FSNIGHT       -0.024180           0.151812  8.735840e-01\n",
       "FMILB         -0.198726           0.154743  2.002638e-01\n",
       "FTIER          0.074665           0.153674  6.274909e-01\n",
       "FPOLL         -0.072878           0.200577  7.166599e-01\n",
       "FSPT          -0.070002           0.215073  7.450951e-01\n",
       "FSATEM         0.304387           0.234076  1.946837e-01\n",
       "FSAUGE         0.122639           0.129272  3.437038e-01\n",
       "FSPFEI         0.131439           0.246728  5.947012e-01\n",
       "FSHLAUF       -0.095158           0.186268  6.099001e-01\n",
       "MALE           0.434777           0.054070  3.708145e-14\n",
       "FEMALE        -0.041283           0.051016  4.191775e-01\n",
       "ALTER          0.035502           0.049072  4.700763e-01\n",
       "AGEBGEW        0.057251           0.041682  1.708311e-01\n",
       "FLGROSS      -11.572593          28.336824  6.833382e-01\n",
       "FNOH24        -0.184276           0.054835  9.010599e-04\n",
       "FLTOTMED      -0.000139           0.041100  9.972979e-01\n",
       "FO3H24         0.089253           0.096183  3.543357e-01\n",
       "FTEH24         1.206839           1.150865  2.953705e-01\n",
       "FLGEW          4.426434           1.472596  2.921211e-03\n",
       "FLGROSS^2     22.744971          56.815319  6.892583e-01\n",
       "FLGROSS^3    -10.737684          28.523355  7.069038e-01\n",
       "FTEH24^2      -2.522997           2.480757  3.101356e-01\n",
       "FTEH24^3       1.288299           1.353470  3.421041e-01\n",
       "FLGEW^2       -7.658038           2.772327  6.170810e-03\n",
       "FLGEW^3        3.589892           1.357829  8.721709e-03"
      ]
     },
     "execution_count": 48,
     "metadata": {},
     "output_type": "execute_result"
    }
   ],
   "source": [
    "X_train_nonlinear = X_train.join(X_nonlinear_train_scaled_df)\n",
    "\n",
    "X_test_nonlinear = X_test.join(X_nonlinear_test_scaled_df)\n",
    "\n",
    "\n",
    "summary_nonlinear = summary_OLS(X_train_nonlinear, y_train, X_train_nonlinear.columns.values)\n",
    "\n",
    "OLS_nonlinear = skllm.LinearRegression(fit_intercept=False).fit(X_train_nonlinear, y_train)\n",
    "print(f\"R^2 score for nonlinear model: {OLS_nonlinear.score(X_test_nonlinear, y_test)}\")\n",
    "\n",
    "summary_nonlinear"
   ]
  },
  {
   "cell_type": "markdown",
   "metadata": {},
   "source": [
    "Looking at the $R^2$ score for the non-linear model, it does not seem to perform better than our previous models either, but seems to perform on par with the others. What is interesting is that the p-value for FLGEW^2 and FLGEW^3 seem to be rather low, so perhaps using these non-linear features with a penalized regression method such as the Lasso or the forward selection and backward elimination methods would yield better results. "
   ]
  },
  {
   "cell_type": "markdown",
   "metadata": {},
   "source": [
    "## Problem 1.6\n",
    "\n",
    "Apparently, Python doesn't have any well-known libraries for boosting, so this was done using R with Jupyter Notebook. Using %%R at the top of the cell transforms the entire cell into an R cell. "
   ]
  },
  {
   "cell_type": "code",
   "execution_count": 49,
   "metadata": {},
   "outputs": [],
   "source": [
    "%%R -i df_train -i df_test\n",
    "\n",
    "library(compboost)\n",
    "library(ggplot2)\n"
   ]
  },
  {
   "cell_type": "code",
   "execution_count": 50,
   "metadata": {},
   "outputs": [
    {
     "name": "stdout",
     "output_type": "stream",
     "text": [
      "  1/100: risk = 0.47\n",
      " 10/100: risk = 0.33\n",
      " 20/100: risk = 0.26\n",
      " 30/100: risk = 0.23\n",
      " 40/100: risk = 0.21\n",
      " 50/100: risk = 0.2\n",
      " 60/100: risk = 0.19\n",
      " 70/100: risk = 0.19\n",
      " 80/100: risk = 0.18\n",
      " 90/100: risk = 0.18\n",
      "100/100: risk = 0.18\n",
      "\n",
      "\n",
      "Train 100 iterations in 0 Seconds.\n",
      "Final risk based on the train set: 0.18\n",
      "\n",
      "$AGEBGEW_linear\n",
      "             [,1]\n",
      "[1,] 4.023172e-19\n",
      "[2,] 1.385251e-02\n",
      "\n",
      "$ALTER_linear\n",
      "              [,1]\n",
      "[1,] -6.196189e-18\n",
      "[2,]  1.678067e-02\n",
      "\n",
      "$FEMALE_linear\n",
      "           [,1]\n",
      "[1,]  0.1794215\n",
      "[2,] -0.3588430\n",
      "\n",
      "$FLGEW_linear\n",
      "              [,1]\n",
      "[1,] -8.123703e-17\n",
      "[2,]  2.272637e-01\n",
      "\n",
      "$FLGROSS_linear\n",
      "              [,1]\n",
      "[1,] -1.194482e-16\n",
      "[2,]  4.878293e-01\n",
      "\n",
      "$FNOH24_linear\n",
      "              [,1]\n",
      "[1,] -1.304551e-18\n",
      "[2,] -6.963044e-02\n",
      "\n",
      "$offset\n",
      "[1] 7.27017e-16\n",
      "\n"
     ]
    }
   ],
   "source": [
    "%%R\n",
    "\n",
    "linear_boost <- boostLinear(data = df_train, target = \"FFVC\", loss = LossQuadratic$new(), trace=10)\n",
    "\n",
    "linear_boost$getEstimatedCoef()"
   ]
  },
  {
   "cell_type": "code",
   "execution_count": 51,
   "metadata": {},
   "outputs": [
    {
     "name": "stdout",
     "output_type": "stream",
     "text": [
      "  1/100: risk = 0.47\n",
      " 10/100: risk = 0.32\n",
      " 20/100: risk = 0.24\n",
      " 30/100: risk = 0.21\n",
      " 40/100: risk = 0.19\n",
      " 50/100: risk = 0.18\n",
      " 60/100: risk = 0.17\n",
      " 70/100: risk = 0.16\n",
      " 80/100: risk = 0.15\n",
      " 90/100: risk = 0.15\n",
      "100/100: risk = 0.14\n",
      "\n",
      "\n",
      "Train 100 iterations in 0 Seconds.\n",
      "Final risk based on the train set: 0.14\n",
      "\n",
      "\n",
      "AGEBGEW_spline   ALTER_spline  FEMALE_spline   FLGEW_spline FLGROSS_spline \n",
      "            10             11              9             14             30 \n",
      " FNOH24_spline  FO3H24_spline  FTEH24_spline    MALE_spline \n",
      "             4              6             12              4 \n"
     ]
    }
   ],
   "source": [
    "%%R\n",
    "spline_boost <- boostSplines(data = df_train, target = \"FFVC\", loss = LossQuadratic$new(), trace=10)\n",
    "\n",
    "table(spline_boost$getSelectedBaselearner())"
   ]
  },
  {
   "cell_type": "markdown",
   "metadata": {},
   "source": [
    "For component-wise boosting with trees, I wasn't able to find a similar method in the compboost package for R. Looking online, I did manage to find [mboost](https://cran.r-project.org/web/packages/mboost/mboost.pdf) which says it uses \"component-wise (penalized) least squares estimates or regression trees as base-learners\", so I hope it is correct to use this package for this purpose. I am not very familiar with R, sorry. \n"
   ]
  },
  {
   "cell_type": "code",
   "execution_count": 52,
   "metadata": {},
   "outputs": [
    {
     "name": "stderr",
     "output_type": "stream",
     "text": [
      "R[write to console]: Error in library(mboost) : there is no package called ‘mboost’\n",
      "Calls: <Anonymous> -> <Anonymous> -> withVisible -> library\n",
      "\n"
     ]
    },
    {
     "name": "stdout",
     "output_type": "stream",
     "text": [
      "\n",
      "Error in library(mboost) : there is no package called ‘mboost’\n",
      "Calls: <Anonymous> -> <Anonymous> -> withVisible -> library\n"
     ]
    }
   ],
   "source": [
    "%%R \n",
    "library(mboost)\n",
    "\n",
    "tree_boost <- blackboost(data=df_train, target=\"FFVC\")"
   ]
  },
  {
   "cell_type": "markdown",
   "metadata": {},
   "source": [
    "## Problem 1.7"
   ]
  },
  {
   "cell_type": "code",
   "execution_count": 66,
   "metadata": {},
   "outputs": [
    {
     "name": "stdout",
     "output_type": "stream",
     "text": [
      "MSE test for full OLS model: 0.36\n",
      "MSE train for full OLS model: 0.32\n",
      "\n",
      "MSE train for backwards elimination model using threshold = 0.1: 0.34\n",
      "MSE test for backwards elimination model using threshold = 0.1: 0.36\n",
      "\n",
      "MSE train for backwards elimination model using threshold = 0.01: 0.45\n",
      "MSE test for backwards elimination model using threshold = 0.01: 0.44\n",
      "\n",
      "MSE train for forward selection model using threshold = 0.1: 0.40\n",
      "MSE test for forward selection model using threshold = 0.1: 0.43\n",
      "\n",
      "MSE train for forward selection model using threshold = 0.01: 0.40\n",
      "MSE test for forward selection model using threshold = 0.01: 0.43\n",
      "\n",
      "MSE train for Lasso model using CV: 0.35\n",
      "MSE test for Lasso model using CV: 1.63\n",
      "\n",
      "MSE train for Lasso model using bootstrapping: 0.34\n",
      "MSE test for Lasso model using bootstrapping: 0.35\n",
      "\n",
      "MSE train for GAM model: 0.36\n",
      "MSE test for GAM model: 1.58\n",
      "\n",
      "MSE train for nonlinear model: 0.31\n",
      "MSE test for nonlinear model: 0.33\n",
      "\n",
      "MSE train for linear boosting model: 0.36\n",
      "MSE test for linear boosting model: 0.34\n",
      "\n",
      "MSE train for spline boosting model: 0.28\n"
     ]
    }
   ],
   "source": [
    "# MSE for full OLS model \n",
    "OLS = skllm.LinearRegression()\n",
    "\n",
    "\n",
    "OLS_full = OLS.fit(X_train, y_train)\n",
    "\n",
    "y_OLS_train = OLS_full.predict(X_train)\n",
    "MSE_OLS_train = sklm.mean_squared_error(y_train, y_OLS_train)\n",
    "\n",
    "y_OLS_test = OLS_full.predict(X_test)\n",
    "MSE_OLS_test = sklm.mean_squared_error(y_test, y_OLS_test)\n",
    "\n",
    "print(f\"MSE test for full OLS model: {MSE_OLS_test:.2f}\")\n",
    "print(f\"MSE train for full OLS model: {MSE_OLS_train:.2f}\\n\")\n",
    "\n",
    "\n",
    "# MSE for backward elimination model\n",
    "OLS_backelim_1 = OLS.fit(X_backelim_1_train, y_train)\n",
    "\n",
    "y_OLS_backelim_1_train = OLS_backelim_1.predict(X_backelim_1_train)\n",
    "MSE_OLS_backelim_1_train = sklm.mean_squared_error(y_train, y_OLS_backelim_1_train)\n",
    "\n",
    "features_backelim_1 = X_backelim_1_train.columns.values\n",
    "\n",
    "X_backelim_1_test = X_test.loc[:, features_backelim_1]\n",
    "y_OLS_backelim_1_test = OLS_backelim_1.predict(X_backelim_1_test)\n",
    "MSE_OLS_backelim_1_test = sklm.mean_squared_error(y_test, y_OLS_backelim_1_test)\n",
    "\n",
    "print(f\"MSE train for backwards elimination model using threshold = 0.1: {MSE_OLS_backelim_1_train:.2f}\")\n",
    "print(f\"MSE test for backwards elimination model using threshold = 0.1: {MSE_OLS_backelim_1_test:.2f}\\n\")\n",
    "\n",
    "\n",
    "# MSE for backward elimination model. \n",
    "OLS_backelim_2 = OLS.fit(X_backelim_2_train, y_train)\n",
    "\n",
    "y_OLS_backelim_2_train = OLS_backelim_2.predict(X_backelim_2_train)\n",
    "MSE_OLS_backelim_2_train = sklm.mean_squared_error(y_train, y_OLS_backelim_2_train)\n",
    "\n",
    "features_backelim_2 = X_backelim_2_train.columns.values\n",
    "\n",
    "X_backelim_2_test = X_test.loc[:, features_backelim_2]\n",
    "y_OLS_backelim_2_test = OLS_backelim_2.predict(X_backelim_2_test)\n",
    "MSE_OLS_backelim_2_test = sklm.mean_squared_error(y_test, y_OLS_backelim_2_test)\n",
    "\n",
    "print(f\"MSE train for backwards elimination model using threshold = 0.01: {MSE_OLS_backelim_2_train:.2f}\")\n",
    "print(f\"MSE test for backwards elimination model using threshold = 0.01: {MSE_OLS_backelim_2_test:.2f}\\n\")\n",
    "\n",
    "# MSE for forward selection model\n",
    "OLS_forsec_1 = OLS.fit(X_forsec_1_train, y_train)\n",
    "\n",
    "y_OLS_forsec_1_train = OLS_forsec_1.predict(X_forsec_1_train)\n",
    "MSE_OLS_forsec_1_train = sklm.mean_squared_error(y_train, y_OLS_forsec_1_train)\n",
    "\n",
    "features_forsec_1 = X_forsec_1_train.columns.values\n",
    "\n",
    "X_forsec_1_test = X_test.loc[:, features_forsec_1]\n",
    "y_OLS_forsec_1_test = OLS_forsec_1.predict(X_forsec_1_test)\n",
    "MSE_OLS_forsec_1_test = sklm.mean_squared_error(y_test, y_OLS_forsec_1_test)\n",
    "\n",
    "\n",
    "print(f\"MSE train for forward selection model using threshold = 0.1: {MSE_OLS_forsec_1_train:.2f}\")\n",
    "print(f\"MSE test for forward selection model using threshold = 0.1: {MSE_OLS_forsec_1_test:.2f}\\n\")\n",
    "\n",
    "\n",
    "OLS_forsec_2 = OLS.fit(X_forsec_2_train, y_train)\n",
    "\n",
    "y_OLS_forsec_2_train = OLS_forsec_2.predict(X_forsec_2_train)\n",
    "MSE_OLS_forsec_2_train = sklm.mean_squared_error(y_train, y_OLS_forsec_2_train)\n",
    "\n",
    "features_forsec_2 = X_forsec_2_train.columns.values\n",
    "\n",
    "X_forsec_2_test = X_test.loc[:, features_forsec_2]\n",
    "y_OLS_forsec_2_test = OLS_forsec_2.predict(X_forsec_2_test)\n",
    "MSE_OLS_forsec_2_test = sklm.mean_squared_error(y_test, y_OLS_forsec_2_test)\n",
    "\n",
    "\n",
    "print(f\"MSE train for forward selection model using threshold = 0.01: {MSE_OLS_forsec_2_train:.2f}\")\n",
    "print(f\"MSE test for forward selection model using threshold = 0.01: {MSE_OLS_forsec_2_test:.2f}\\n\")\n",
    "\n",
    "# MSE for Lasso model \n",
    "\n",
    "# reg_lasso_cv instance was already defined and fitted earlier, so we can just call on it again\n",
    "y_lasso_cv_train = reg_lasso_cv.predict(X_train)\n",
    "MSE_lasso_cv_train = sklm.mean_squared_error(y_train, y_lasso_cv_train)\n",
    "\n",
    "y_lasso_cv_test = reg_lasso_cv.predict(X_test)\n",
    "MSE_lasso_cv_test = sklm.mean_squared_error(y_train, y_lasso_cv_test)\n",
    "\n",
    "print(f\"MSE train for Lasso model using CV: {MSE_lasso_cv_train:.2f}\")\n",
    "print(f\"MSE test for Lasso model using CV: {MSE_lasso_cv_test:.2f}\\n\")\n",
    "\n",
    "\n",
    "# reg_lasso_bootstrap instance was also defined and fitted earlier\n",
    "y_lasso_bootstrap_train = reg_lasso_bootstrap.predict(X_train) \n",
    "MSE_lasso_bootstrap_train = sklm.mean_squared_error(y_train, y_lasso_bootstrap_train)\n",
    "\n",
    "y_lasso_bootstrap_test = reg_lasso_bootstrap.predict(X_test)\n",
    "MSE_lasso_bootstrap_test = sklm.mean_squared_error(y_test, y_lasso_bootstrap_test)\n",
    "\n",
    "\n",
    "print(f\"MSE train for Lasso model using bootstrapping: {MSE_lasso_bootstrap_train:.2f}\")\n",
    "print(f\"MSE test for Lasso model using bootstrapping: {MSE_lasso_bootstrap_test:.2f}\\n\")\n",
    "\n",
    "\n",
    "\n",
    "# MSE for GAM model \n",
    "\n",
    "# gam instance was already defined and fitted earlier\n",
    "y_gam_train = gam.predict(X_train)\n",
    "MSE_gam_train = sklm.mean_squared_error(y_train, y_gam_train)\n",
    "\n",
    "y_gam_test = gam.predict(X_test)\n",
    "MSE_gam_test = sklm.mean_squared_error(y_train, y_gam_test)\n",
    "\n",
    "\n",
    "print(f\"MSE train for GAM model: {MSE_gam_train:.2f}\")\n",
    "print(f\"MSE test for GAM model: {MSE_gam_test:.2f}\\n\")\n",
    "\n",
    "# MSE for non-linear model \n",
    "\n",
    "# OLS_nonlinear instance was already defined and fitted earlier\n",
    "\n",
    "y_nonlinear_train = OLS_nonlinear.predict(X_train_nonlinear)\n",
    "MSE_nonlinear_train = sklm.mean_squared_error(y_train, y_nonlinear_train)\n",
    "\n",
    "y_nonlinear_test = OLS_nonlinear.predict(X_test_nonlinear)\n",
    "MSE_nonlinear_test = sklm.mean_squared_error(y_test, y_nonlinear_test)\n",
    "\n",
    "print(f\"MSE train for nonlinear model: {MSE_nonlinear_train:.2f}\")\n",
    "print(f\"MSE test for nonlinear model: {MSE_nonlinear_test:.2f}\\n\")\n",
    "\n",
    "\n",
    "# MSE for linear boosting model\n",
    "\n",
    "y_linearboost_train = %R linear_boost$predict(df_train)\n",
    "MSE_linearboost_train = sklm.mean_squared_error(y_train, y_linearboost_train)\n",
    "\n",
    "y_linearboost_test = %R linear_boost$predict(df_test)\n",
    "MSE_linearboost_test = sklm.mean_squared_error(y_test, y_linearboost_test)\n",
    "\n",
    "\n",
    "print(f\"MSE train for linear boosting model: {MSE_linearboost_train:.2f}\")\n",
    "print(f\"MSE test for linear boosting model: {MSE_linearboost_test:.2f}\\n\")\n",
    "\n",
    "\n",
    "# MSE for splines boosting model\n",
    "\n",
    "y_splineboost_train = %R spline_boost$predict(df_train)\n",
    "MSE_splineboost_train = sklm.mean_squared_error(y_train, y_splineboost_train)\n",
    "\n",
    "print(f\"MSE train for spline boosting model: {MSE_splineboost_train:.2f}\")\n",
    "\n",
    "#y_splineboost_test = %R spline_boost$predict(df_test)\n",
    "#MSE_splineboost_test = sklm.mean_squared_error(y_test, y_splineboost_test)\n",
    "# Sadly, trying to get test error crashes the program? So I guess I can't answer that part"
   ]
  },
  {
   "cell_type": "markdown",
   "metadata": {},
   "source": [
    "For the boost model errors, I needed to export the models written in R to Python. This was done using %R. \n",
    "\n",
    "The lowest MSE train was gained using boosted splines. Sadly, I can't seem to get the MSE for the test set and compare. \n",
    "A lot of the models seem to perform on par with each other. The full OLS model, Lasso model using bootstrap, boosted linear model, and non-linear model seem to perform similarly well. \n",
    "\n",
    "The Lasso model using CV and GAM model seem to have overfitted the data and give far higher test error than train. \n",
    "\n",
    "I earlier said I thought the backwards elimination and forward selection models would perform better than the standard OLS model, but it seems my threshold was too low and I ended up eliminating too many variables. Raising the threshold would probably improve these models. The backwards elimination model using the threshold = 0.1 actually performed better than the backward elimination with lower threshold and forward selection, which supports the claim that the models were too strict. "
   ]
  }
 ],
 "metadata": {
  "kernelspec": {
   "display_name": "Python 3",
   "language": "python",
   "name": "python3"
  },
  "language_info": {
   "codemirror_mode": {
    "name": "ipython",
    "version": 3
   },
   "file_extension": ".py",
   "mimetype": "text/x-python",
   "name": "python",
   "nbconvert_exporter": "python",
   "pygments_lexer": "ipython3",
   "version": "3.6.9"
  }
 },
 "nbformat": 4,
 "nbformat_minor": 2
}
